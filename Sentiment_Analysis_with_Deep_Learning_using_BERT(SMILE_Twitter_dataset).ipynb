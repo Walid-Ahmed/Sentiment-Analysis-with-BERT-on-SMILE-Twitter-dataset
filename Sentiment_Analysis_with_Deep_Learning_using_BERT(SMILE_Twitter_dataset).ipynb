{
  "cells": [
    {
      "cell_type": "markdown",
      "metadata": {
        "id": "XmtjgdRjstzZ"
      },
      "source": [
        "# Sentiment Analysis with Deep Learning using BERT(SMILE Twitter dataset)\n",
        "\n",
        "\n",
        "\n",
        "\n"
      ]
    },
    {
      "cell_type": "markdown",
      "metadata": {
        "id": "uCPD3Z3pSLFj"
      },
      "source": [
        "# 0-Setting environmnet"
      ]
    },
    {
      "cell_type": "code",
      "execution_count": 1,
      "metadata": {
        "id": "shGnpUEx88NV",
        "colab": {
          "base_uri": "https://localhost:8080/"
        },
        "outputId": "57155331-e015-4c2d-9622-010519f5c2d2"
      },
      "outputs": [
        {
          "output_type": "stream",
          "name": "stdout",
          "text": [
            "Collecting wget\n",
            "  Downloading wget-3.2.zip (10 kB)\n",
            "  Preparing metadata (setup.py) ... \u001b[?25l\u001b[?25hdone\n",
            "Building wheels for collected packages: wget\n",
            "  Building wheel for wget (setup.py) ... \u001b[?25l\u001b[?25hdone\n",
            "  Created wheel for wget: filename=wget-3.2-py3-none-any.whl size=9656 sha256=f7969cb8647462901b8887e329dcbcda71022d037aefad47c22370f61e092dd7\n",
            "  Stored in directory: /root/.cache/pip/wheels/8b/f1/7f/5c94f0a7a505ca1c81cd1d9208ae2064675d97582078e6c769\n",
            "Successfully built wget\n",
            "Installing collected packages: wget\n",
            "Successfully installed wget-3.2\n"
          ]
        }
      ],
      "source": [
        "!pip install wget # we will use this to download the raw dataset"
      ]
    },
    {
      "cell_type": "code",
      "execution_count": 2,
      "metadata": {
        "id": "3CC6BovC9h1K",
        "colab": {
          "base_uri": "https://localhost:8080/"
        },
        "outputId": "7469c6a0-d3c5-47f9-9534-a18cdeb76ec2"
      },
      "outputs": [
        {
          "output_type": "stream",
          "name": "stdout",
          "text": [
            "[INFO] All packages imported successfully\n"
          ]
        }
      ],
      "source": [
        "import pandas as pd\n",
        "import wget\n",
        "import torch\n",
        "from transformers import BertForSequenceClassification\n",
        "from transformers import  get_linear_schedule_with_warmup\n",
        "import tqdm\n",
        "from tqdm import tqdm  # Import the tqdm function\n",
        "import seaborn as sns\n",
        "from sklearn.metrics import confusion_matrix\n",
        "import matplotlib.pyplot as plt\n",
        "import random\n",
        "import numpy as np\n",
        "from torch.utils.data import DataLoader, RandomSampler, SequentialSampler\n",
        "print(\"[INFO] All packages imported successfully\")"
      ]
    },
    {
      "cell_type": "code",
      "execution_count": 3,
      "metadata": {
        "id": "Zk9KrhPTst0I"
      },
      "outputs": [],
      "source": [
        "#ensure results are reproducable\n",
        "seed_val = 17\n",
        "random.seed(seed_val)\n",
        "np.random.seed(seed_val)\n",
        "torch.manual_seed(seed_val)\n",
        "torch.cuda.manual_seed_all(seed_val)"
      ]
    },
    {
      "cell_type": "markdown",
      "source": [
        "# 1-Data Preprocessinng"
      ],
      "metadata": {
        "id": "G6JijVHrQ-6C"
      }
    },
    {
      "cell_type": "markdown",
      "metadata": {
        "id": "hRm2rpE5-9V8"
      },
      "source": [
        "## Exploratory Data Analysis and Preprocessing"
      ]
    },
    {
      "cell_type": "markdown",
      "source": [
        "We will use the SMILE Twitter dataset.\n",
        "\n",
        "Wang, Bo; Tsakalidis, Adam; Liakata, Maria; Zubiaga, Arkaitz; Procter, Rob; Jensen, Eric (2016): SMILE Twitter Emotion dataset. figshare. Dataset. https://doi.org/10.6084/m9.figshare.3187909.v2\n"
      ],
      "metadata": {
        "id": "p3wvvQP8Eji5"
      }
    },
    {
      "cell_type": "code",
      "execution_count": 4,
      "metadata": {
        "id": "50SrpDVl9EO-"
      },
      "outputs": [],
      "source": [
        "url=\"https://raw.githubusercontent.com/Walid-Ahmed/Sentiment-Analysis-with-BERT-on-SMILE-Twitter-dataset/main/smileannotationsfinal.csv\"\n",
        "file=wget.download(url)"
      ]
    },
    {
      "cell_type": "code",
      "execution_count": 46,
      "metadata": {
        "id": "xSE8rC209UwI"
      },
      "outputs": [],
      "source": [
        "df = pd.read_csv(\"smileannotationsfinal.csv\", names=['id', 'text', 'category'])\n"
      ]
    },
    {
      "cell_type": "code",
      "execution_count": 6,
      "metadata": {
        "id": "H_U2miQT-zCA",
        "colab": {
          "base_uri": "https://localhost:8080/"
        },
        "outputId": "e95a2592-5652-46e9-b813-1bcd8b82f058"
      },
      "outputs": [
        {
          "output_type": "stream",
          "name": "stdout",
          "text": [
            "<class 'pandas.core.frame.DataFrame'>\n",
            "RangeIndex: 3085 entries, 0 to 3084\n",
            "Data columns (total 3 columns):\n",
            " #   Column    Non-Null Count  Dtype \n",
            "---  ------    --------------  ----- \n",
            " 0   id        3085 non-null   int64 \n",
            " 1   text      3085 non-null   object\n",
            " 2   category  3085 non-null   object\n",
            "dtypes: int64(1), object(2)\n",
            "memory usage: 72.4+ KB\n"
          ]
        }
      ],
      "source": [
        "df.info()"
      ]
    },
    {
      "cell_type": "code",
      "execution_count": 7,
      "metadata": {
        "id": "W3LWB2ME_FCq",
        "colab": {
          "base_uri": "https://localhost:8080/",
          "height": 206
        },
        "outputId": "c65d09c0-8c3f-405c-82cc-12888e3710a4"
      },
      "outputs": [
        {
          "output_type": "execute_result",
          "data": {
            "text/plain": [
              "                   id                                               text  \\\n",
              "0  611857364396965889  @aandraous @britishmuseum @AndrewsAntonio Merc...   \n",
              "1  614484565059596288  Dorian Gray with Rainbow Scarf #LoveWins (from...   \n",
              "2  614746522043973632  @SelectShowcase @Tate_StIves ... Replace with ...   \n",
              "3  614877582664835073  @Sofabsports thank you for following me back. ...   \n",
              "4  611932373039644672  @britishmuseum @TudorHistory What a beautiful ...   \n",
              "\n",
              "  category  \n",
              "0   nocode  \n",
              "1    happy  \n",
              "2    happy  \n",
              "3    happy  \n",
              "4    happy  "
            ],
            "text/html": [
              "\n",
              "  <div id=\"df-3170adcd-b9d0-4487-b16e-9bcbd5354a6e\" class=\"colab-df-container\">\n",
              "    <div>\n",
              "<style scoped>\n",
              "    .dataframe tbody tr th:only-of-type {\n",
              "        vertical-align: middle;\n",
              "    }\n",
              "\n",
              "    .dataframe tbody tr th {\n",
              "        vertical-align: top;\n",
              "    }\n",
              "\n",
              "    .dataframe thead th {\n",
              "        text-align: right;\n",
              "    }\n",
              "</style>\n",
              "<table border=\"1\" class=\"dataframe\">\n",
              "  <thead>\n",
              "    <tr style=\"text-align: right;\">\n",
              "      <th></th>\n",
              "      <th>id</th>\n",
              "      <th>text</th>\n",
              "      <th>category</th>\n",
              "    </tr>\n",
              "  </thead>\n",
              "  <tbody>\n",
              "    <tr>\n",
              "      <th>0</th>\n",
              "      <td>611857364396965889</td>\n",
              "      <td>@aandraous @britishmuseum @AndrewsAntonio Merc...</td>\n",
              "      <td>nocode</td>\n",
              "    </tr>\n",
              "    <tr>\n",
              "      <th>1</th>\n",
              "      <td>614484565059596288</td>\n",
              "      <td>Dorian Gray with Rainbow Scarf #LoveWins (from...</td>\n",
              "      <td>happy</td>\n",
              "    </tr>\n",
              "    <tr>\n",
              "      <th>2</th>\n",
              "      <td>614746522043973632</td>\n",
              "      <td>@SelectShowcase @Tate_StIves ... Replace with ...</td>\n",
              "      <td>happy</td>\n",
              "    </tr>\n",
              "    <tr>\n",
              "      <th>3</th>\n",
              "      <td>614877582664835073</td>\n",
              "      <td>@Sofabsports thank you for following me back. ...</td>\n",
              "      <td>happy</td>\n",
              "    </tr>\n",
              "    <tr>\n",
              "      <th>4</th>\n",
              "      <td>611932373039644672</td>\n",
              "      <td>@britishmuseum @TudorHistory What a beautiful ...</td>\n",
              "      <td>happy</td>\n",
              "    </tr>\n",
              "  </tbody>\n",
              "</table>\n",
              "</div>\n",
              "    <div class=\"colab-df-buttons\">\n",
              "\n",
              "  <div class=\"colab-df-container\">\n",
              "    <button class=\"colab-df-convert\" onclick=\"convertToInteractive('df-3170adcd-b9d0-4487-b16e-9bcbd5354a6e')\"\n",
              "            title=\"Convert this dataframe to an interactive table.\"\n",
              "            style=\"display:none;\">\n",
              "\n",
              "  <svg xmlns=\"http://www.w3.org/2000/svg\" height=\"24px\" viewBox=\"0 -960 960 960\">\n",
              "    <path d=\"M120-120v-720h720v720H120Zm60-500h600v-160H180v160Zm220 220h160v-160H400v160Zm0 220h160v-160H400v160ZM180-400h160v-160H180v160Zm440 0h160v-160H620v160ZM180-180h160v-160H180v160Zm440 0h160v-160H620v160Z\"/>\n",
              "  </svg>\n",
              "    </button>\n",
              "\n",
              "  <style>\n",
              "    .colab-df-container {\n",
              "      display:flex;\n",
              "      gap: 12px;\n",
              "    }\n",
              "\n",
              "    .colab-df-convert {\n",
              "      background-color: #E8F0FE;\n",
              "      border: none;\n",
              "      border-radius: 50%;\n",
              "      cursor: pointer;\n",
              "      display: none;\n",
              "      fill: #1967D2;\n",
              "      height: 32px;\n",
              "      padding: 0 0 0 0;\n",
              "      width: 32px;\n",
              "    }\n",
              "\n",
              "    .colab-df-convert:hover {\n",
              "      background-color: #E2EBFA;\n",
              "      box-shadow: 0px 1px 2px rgba(60, 64, 67, 0.3), 0px 1px 3px 1px rgba(60, 64, 67, 0.15);\n",
              "      fill: #174EA6;\n",
              "    }\n",
              "\n",
              "    .colab-df-buttons div {\n",
              "      margin-bottom: 4px;\n",
              "    }\n",
              "\n",
              "    [theme=dark] .colab-df-convert {\n",
              "      background-color: #3B4455;\n",
              "      fill: #D2E3FC;\n",
              "    }\n",
              "\n",
              "    [theme=dark] .colab-df-convert:hover {\n",
              "      background-color: #434B5C;\n",
              "      box-shadow: 0px 1px 3px 1px rgba(0, 0, 0, 0.15);\n",
              "      filter: drop-shadow(0px 1px 2px rgba(0, 0, 0, 0.3));\n",
              "      fill: #FFFFFF;\n",
              "    }\n",
              "  </style>\n",
              "\n",
              "    <script>\n",
              "      const buttonEl =\n",
              "        document.querySelector('#df-3170adcd-b9d0-4487-b16e-9bcbd5354a6e button.colab-df-convert');\n",
              "      buttonEl.style.display =\n",
              "        google.colab.kernel.accessAllowed ? 'block' : 'none';\n",
              "\n",
              "      async function convertToInteractive(key) {\n",
              "        const element = document.querySelector('#df-3170adcd-b9d0-4487-b16e-9bcbd5354a6e');\n",
              "        const dataTable =\n",
              "          await google.colab.kernel.invokeFunction('convertToInteractive',\n",
              "                                                    [key], {});\n",
              "        if (!dataTable) return;\n",
              "\n",
              "        const docLinkHtml = 'Like what you see? Visit the ' +\n",
              "          '<a target=\"_blank\" href=https://colab.research.google.com/notebooks/data_table.ipynb>data table notebook</a>'\n",
              "          + ' to learn more about interactive tables.';\n",
              "        element.innerHTML = '';\n",
              "        dataTable['output_type'] = 'display_data';\n",
              "        await google.colab.output.renderOutput(dataTable, element);\n",
              "        const docLink = document.createElement('div');\n",
              "        docLink.innerHTML = docLinkHtml;\n",
              "        element.appendChild(docLink);\n",
              "      }\n",
              "    </script>\n",
              "  </div>\n",
              "\n",
              "\n",
              "<div id=\"df-820d244d-3de0-4a4e-9285-c0bb869c80d9\">\n",
              "  <button class=\"colab-df-quickchart\" onclick=\"quickchart('df-820d244d-3de0-4a4e-9285-c0bb869c80d9')\"\n",
              "            title=\"Suggest charts\"\n",
              "            style=\"display:none;\">\n",
              "\n",
              "<svg xmlns=\"http://www.w3.org/2000/svg\" height=\"24px\"viewBox=\"0 0 24 24\"\n",
              "     width=\"24px\">\n",
              "    <g>\n",
              "        <path d=\"M19 3H5c-1.1 0-2 .9-2 2v14c0 1.1.9 2 2 2h14c1.1 0 2-.9 2-2V5c0-1.1-.9-2-2-2zM9 17H7v-7h2v7zm4 0h-2V7h2v10zm4 0h-2v-4h2v4z\"/>\n",
              "    </g>\n",
              "</svg>\n",
              "  </button>\n",
              "\n",
              "<style>\n",
              "  .colab-df-quickchart {\n",
              "      --bg-color: #E8F0FE;\n",
              "      --fill-color: #1967D2;\n",
              "      --hover-bg-color: #E2EBFA;\n",
              "      --hover-fill-color: #174EA6;\n",
              "      --disabled-fill-color: #AAA;\n",
              "      --disabled-bg-color: #DDD;\n",
              "  }\n",
              "\n",
              "  [theme=dark] .colab-df-quickchart {\n",
              "      --bg-color: #3B4455;\n",
              "      --fill-color: #D2E3FC;\n",
              "      --hover-bg-color: #434B5C;\n",
              "      --hover-fill-color: #FFFFFF;\n",
              "      --disabled-bg-color: #3B4455;\n",
              "      --disabled-fill-color: #666;\n",
              "  }\n",
              "\n",
              "  .colab-df-quickchart {\n",
              "    background-color: var(--bg-color);\n",
              "    border: none;\n",
              "    border-radius: 50%;\n",
              "    cursor: pointer;\n",
              "    display: none;\n",
              "    fill: var(--fill-color);\n",
              "    height: 32px;\n",
              "    padding: 0;\n",
              "    width: 32px;\n",
              "  }\n",
              "\n",
              "  .colab-df-quickchart:hover {\n",
              "    background-color: var(--hover-bg-color);\n",
              "    box-shadow: 0 1px 2px rgba(60, 64, 67, 0.3), 0 1px 3px 1px rgba(60, 64, 67, 0.15);\n",
              "    fill: var(--button-hover-fill-color);\n",
              "  }\n",
              "\n",
              "  .colab-df-quickchart-complete:disabled,\n",
              "  .colab-df-quickchart-complete:disabled:hover {\n",
              "    background-color: var(--disabled-bg-color);\n",
              "    fill: var(--disabled-fill-color);\n",
              "    box-shadow: none;\n",
              "  }\n",
              "\n",
              "  .colab-df-spinner {\n",
              "    border: 2px solid var(--fill-color);\n",
              "    border-color: transparent;\n",
              "    border-bottom-color: var(--fill-color);\n",
              "    animation:\n",
              "      spin 1s steps(1) infinite;\n",
              "  }\n",
              "\n",
              "  @keyframes spin {\n",
              "    0% {\n",
              "      border-color: transparent;\n",
              "      border-bottom-color: var(--fill-color);\n",
              "      border-left-color: var(--fill-color);\n",
              "    }\n",
              "    20% {\n",
              "      border-color: transparent;\n",
              "      border-left-color: var(--fill-color);\n",
              "      border-top-color: var(--fill-color);\n",
              "    }\n",
              "    30% {\n",
              "      border-color: transparent;\n",
              "      border-left-color: var(--fill-color);\n",
              "      border-top-color: var(--fill-color);\n",
              "      border-right-color: var(--fill-color);\n",
              "    }\n",
              "    40% {\n",
              "      border-color: transparent;\n",
              "      border-right-color: var(--fill-color);\n",
              "      border-top-color: var(--fill-color);\n",
              "    }\n",
              "    60% {\n",
              "      border-color: transparent;\n",
              "      border-right-color: var(--fill-color);\n",
              "    }\n",
              "    80% {\n",
              "      border-color: transparent;\n",
              "      border-right-color: var(--fill-color);\n",
              "      border-bottom-color: var(--fill-color);\n",
              "    }\n",
              "    90% {\n",
              "      border-color: transparent;\n",
              "      border-bottom-color: var(--fill-color);\n",
              "    }\n",
              "  }\n",
              "</style>\n",
              "\n",
              "  <script>\n",
              "    async function quickchart(key) {\n",
              "      const quickchartButtonEl =\n",
              "        document.querySelector('#' + key + ' button');\n",
              "      quickchartButtonEl.disabled = true;  // To prevent multiple clicks.\n",
              "      quickchartButtonEl.classList.add('colab-df-spinner');\n",
              "      try {\n",
              "        const charts = await google.colab.kernel.invokeFunction(\n",
              "            'suggestCharts', [key], {});\n",
              "      } catch (error) {\n",
              "        console.error('Error during call to suggestCharts:', error);\n",
              "      }\n",
              "      quickchartButtonEl.classList.remove('colab-df-spinner');\n",
              "      quickchartButtonEl.classList.add('colab-df-quickchart-complete');\n",
              "    }\n",
              "    (() => {\n",
              "      let quickchartButtonEl =\n",
              "        document.querySelector('#df-820d244d-3de0-4a4e-9285-c0bb869c80d9 button');\n",
              "      quickchartButtonEl.style.display =\n",
              "        google.colab.kernel.accessAllowed ? 'block' : 'none';\n",
              "    })();\n",
              "  </script>\n",
              "</div>\n",
              "\n",
              "    </div>\n",
              "  </div>\n"
            ],
            "application/vnd.google.colaboratory.intrinsic+json": {
              "type": "dataframe",
              "variable_name": "df",
              "summary": "{\n  \"name\": \"df\",\n  \"rows\": 3085,\n  \"fields\": [\n    {\n      \"column\": \"id\",\n      \"properties\": {\n        \"dtype\": \"number\",\n        \"std\": 4950760811642779,\n        \"min\": 387190863773724672,\n        \"max\": 615595635723481088,\n        \"num_unique_values\": 3085,\n        \"samples\": [\n          612663670997258240,\n          613679581602648064,\n          614841238093725696\n        ],\n        \"semantic_type\": \"\",\n        \"description\": \"\"\n      }\n    },\n    {\n      \"column\": \"text\",\n      \"properties\": {\n        \"dtype\": \"string\",\n        \"num_unique_values\": 3043,\n        \"samples\": [\n          \"Don't forget our AS &amp; A' Level 'Subject Tasters Week' coming this September across @CamUnivMuseums. Book your FREE place today 01223 332904\",\n          \"Wondrous manuscripts and books of the past. Paper is an amazing inspiration of tremendous delight @britishmuseum #RT https://t.co/T7lsDBn2nZ\",\n          \"\\\"Crisis Through the Ages\\\" topic of our one-day conference. Booking is free but mandatory. Thx! @ManeyArchaeo @wellcometrust @britishmuseum\"\n        ],\n        \"semantic_type\": \"\",\n        \"description\": \"\"\n      }\n    },\n    {\n      \"column\": \"category\",\n      \"properties\": {\n        \"dtype\": \"category\",\n        \"num_unique_values\": 13,\n        \"samples\": [\n          \"sad|angry\",\n          \"happy|sad\",\n          \"nocode\"\n        ],\n        \"semantic_type\": \"\",\n        \"description\": \"\"\n      }\n    }\n  ]\n}"
            }
          },
          "metadata": {},
          "execution_count": 7
        }
      ],
      "source": [
        "df.head()"
      ]
    },
    {
      "cell_type": "code",
      "execution_count": 51,
      "metadata": {
        "id": "A-TDCvKu_Iv6"
      },
      "outputs": [],
      "source": [
        "# Drop column 'id'\n",
        "df = df.drop('id', axis=1)"
      ]
    },
    {
      "cell_type": "code",
      "source": [
        "# Selecting and printing 5 random rows\n",
        "random_rows = df.sample(n=5)\n",
        "print(random_rows)"
      ],
      "metadata": {
        "colab": {
          "base_uri": "https://localhost:8080/"
        },
        "id": "sT7kmtzbDWdZ",
        "outputId": "e9cebdfe-8228-49dd-f286-e436b281acdc"
      },
      "execution_count": 53,
      "outputs": [
        {
          "output_type": "stream",
          "name": "stdout",
          "text": [
            "                                                   text   category\n",
            "1365  @Tate the whole Magritte exhibition @tateliver...     nocode\n",
            "2397  We enjoyed the exhibition, but we'd have liked...  happy|sad\n",
            "1329  Capital day with @KMHyland @britishmuseum bein...      happy\n",
            "847   Frames in Focus: Sansovino Frames ... and so m...     nocode\n",
            "1111  Off to London for #CivilisedBodies @ucl and th...     nocode\n"
          ]
        }
      ]
    },
    {
      "cell_type": "code",
      "execution_count": 9,
      "metadata": {
        "id": "zdOYQGvF_pE6",
        "colab": {
          "base_uri": "https://localhost:8080/"
        },
        "outputId": "e51dcaf5-e3f2-4345-96c6-437d0abdc9ab"
      },
      "outputs": [
        {
          "output_type": "execute_result",
          "data": {
            "text/plain": [
              "nocode               1572\n",
              "happy                1137\n",
              "not-relevant          214\n",
              "angry                  57\n",
              "surprise               35\n",
              "sad                    32\n",
              "happy|surprise         11\n",
              "happy|sad               9\n",
              "disgust|angry           7\n",
              "disgust                 6\n",
              "sad|disgust             2\n",
              "sad|angry               2\n",
              "sad|disgust|angry       1\n",
              "Name: category, dtype: int64"
            ]
          },
          "metadata": {},
          "execution_count": 9
        }
      ],
      "source": [
        "df.category.value_counts()"
      ]
    },
    {
      "cell_type": "code",
      "execution_count": 10,
      "metadata": {
        "id": "ml_ggALj_4b0"
      },
      "outputs": [],
      "source": [
        "# Values to be removed\n",
        "values_to_remove = [\"nocode\",'happy|surprise', 'happy|sad',\"disgust|angry\",\"sad|disgust\",\"sad|angry\",\"sad|disgust|angry\"]\n",
        "\n",
        "# Remove rows where column 'category' has values from values_to_remove\n",
        "df = df[~df['category'].isin(values_to_remove)]\n"
      ]
    },
    {
      "cell_type": "code",
      "execution_count": 11,
      "metadata": {
        "id": "mAHmL0uTAPzR",
        "colab": {
          "base_uri": "https://localhost:8080/"
        },
        "outputId": "9f7caa18-3865-4718-97c5-85c9eb712939"
      },
      "outputs": [
        {
          "output_type": "execute_result",
          "data": {
            "text/plain": [
              "happy           1137\n",
              "not-relevant     214\n",
              "angry             57\n",
              "surprise          35\n",
              "sad               32\n",
              "disgust            6\n",
              "Name: category, dtype: int64"
            ]
          },
          "metadata": {},
          "execution_count": 11
        }
      ],
      "source": [
        "df.category.value_counts()"
      ]
    },
    {
      "cell_type": "code",
      "execution_count": 12,
      "metadata": {
        "id": "1TwiOT9KBMOD"
      },
      "outputs": [],
      "source": [
        "# Convert string values in 'category' to unique integer values\n",
        "df['label'],uniques = pd.factorize(df['category'])"
      ]
    },
    {
      "cell_type": "code",
      "source": [
        "# Create a mapping from integer values to original category labels\n",
        "label_to_category = {index: label for index, label in enumerate(uniques)}\n",
        "\n",
        "# To get the reverse mapping from category labels to integer values\n",
        "category_to_label = {label: index for index, label in label_to_category.items()}\n"
      ],
      "metadata": {
        "id": "kahcXNEOtU74"
      },
      "execution_count": 13,
      "outputs": []
    },
    {
      "cell_type": "code",
      "source": [
        "print(uniques)\n",
        "print(label_to_category)\n",
        "print(category_to_label)\n"
      ],
      "metadata": {
        "id": "U6K4J8iStu5e",
        "colab": {
          "base_uri": "https://localhost:8080/"
        },
        "outputId": "8722e0fa-317c-4e10-9fbc-ccc322e9b460"
      },
      "execution_count": 14,
      "outputs": [
        {
          "output_type": "stream",
          "name": "stdout",
          "text": [
            "Index(['happy', 'not-relevant', 'angry', 'disgust', 'sad', 'surprise'], dtype='object')\n",
            "{0: 'happy', 1: 'not-relevant', 2: 'angry', 3: 'disgust', 4: 'sad', 5: 'surprise'}\n",
            "{'happy': 0, 'not-relevant': 1, 'angry': 2, 'disgust': 3, 'sad': 4, 'surprise': 5}\n"
          ]
        }
      ]
    },
    {
      "cell_type": "code",
      "execution_count": 43,
      "metadata": {
        "id": "OeJ8d9DXBSLH",
        "colab": {
          "base_uri": "https://localhost:8080/"
        },
        "outputId": "ffb90fad-b1af-43b3-cc7c-65a15d62a396"
      },
      "outputs": [
        {
          "output_type": "stream",
          "name": "stdout",
          "text": [
            "                                                   text category  label\n",
            "145   Wonderful book from trip to the @britishmuseum...    happy      0\n",
            "434   @PamHartshorne @britishmuseum  Sounds wonderfu...    happy      0\n",
            "2292  @psframes enjoyed the Sansovino Frames! @Natio...    happy      0\n",
            "1398  Workshop @britishmuseum today on Manchu Money ...    happy      0\n",
            "1284  People who &lt;3 &amp; care about paintings VS...    angry      2\n"
          ]
        }
      ],
      "source": [
        "# Selecting and printing 5 random rows\n",
        "random_rows = df.sample(n=5)\n",
        "print(random_rows)"
      ]
    },
    {
      "cell_type": "code",
      "execution_count": 16,
      "metadata": {
        "id": "4jDE7HQCKyWh"
      },
      "outputs": [],
      "source": [
        "# Get the number of unique values in the 'labels' column\n",
        "num_unique_values = df['label'].nunique()"
      ]
    },
    {
      "cell_type": "code",
      "source": [
        "unique_values = df['category'].unique().tolist()\n"
      ],
      "metadata": {
        "id": "H73nDHWJohp8"
      },
      "execution_count": 17,
      "outputs": []
    },
    {
      "cell_type": "code",
      "execution_count": 18,
      "metadata": {
        "id": "v5FEnyhSD_7Q"
      },
      "outputs": [],
      "source": [
        "from sklearn.model_selection import train_test_split"
      ]
    },
    {
      "cell_type": "code",
      "execution_count": 20,
      "metadata": {
        "id": "aXlbAOcVEEux"
      },
      "outputs": [],
      "source": [
        "X_train, X_val, y_train, y_val = train_test_split(\n",
        "    df.text.values,\n",
        "    df.label.values,\n",
        "    test_size = 0.15,\n",
        "    random_state = 17,\n",
        "    stratify = df.label.values\n",
        ")"
      ]
    },
    {
      "cell_type": "markdown",
      "metadata": {
        "id": "6DsUfq9sGcVv"
      },
      "source": [
        "## Tokenization"
      ]
    },
    {
      "cell_type": "code",
      "execution_count": 21,
      "metadata": {
        "id": "Gu_fRPv_stz0"
      },
      "outputs": [],
      "source": [
        "from transformers import BertTokenizer\n",
        "from torch.utils.data import TensorDataset"
      ]
    },
    {
      "cell_type": "markdown",
      "metadata": {
        "id": "Ht44aNPqFQpU"
      },
      "source": [
        "The BertTokenizer.from_pretrained function is used to load a tokenizer pre-trained on the BERT (Bidirectional Encoder Representations from Transformers) model. This tokenizer is designed to properly handle the preprocessing of text before it is fed into a BERT model. The do_lower_case=True parameter ensures that the text is converted to lowercase before tokenization, which is consistent with the training of the 'bert-base-uncased' model."
      ]
    },
    {
      "cell_type": "code",
      "execution_count": 22,
      "metadata": {
        "id": "jhtR115YE1bf",
        "colab": {
          "base_uri": "https://localhost:8080/",
          "height": 269,
          "referenced_widgets": [
            "b669dd86d66a404597f8222410ad1f93",
            "7acca8d9ab7d42e9b98f35756fc01af7",
            "7a7c80a1151e44e0b13c7b9950fe83ee",
            "950b8dfee1b840a2ae3dc9ffc5ecd40d",
            "310e16b640aa43f3aa930fa51724586a",
            "f35a3f45b10842ba9212915448abd2e0",
            "a04b56003f1e4dea8b50f19a7fa79eaa",
            "fd6e11a29c714cc0abd97062f6cfe103",
            "ec75bd8e8e34429f9cafd53558207bfd",
            "03d7aaa4b72843d29f9f3cd847d53e82",
            "bfdf0b1b07bf4cc39f495095253adf65",
            "6cc7ea43dce44c4bb32e08b22994b8fb",
            "0f784e056c484c99b33c8e1ca8836b70",
            "fcf5c7dc82ca48169c23136d7d1e2b25",
            "2025ad5c17b143cab1bd8ced81bb6355",
            "82d133e1d2b3409fbff0556fc2299c99",
            "32a073c1c60f41bb8db0e931ae102a6b",
            "20b03b64b6af43a39a75a6262955c876",
            "6e7b917c29d142ec92690e291ca9622e",
            "426b176602b84eaf8b39e8618f04ea75",
            "f7f0835bf7714dccb9812995fb05351d",
            "fe79c75581d640da9386211969076a86",
            "e6cc09c6eceb4c50a90da6509efe26c4",
            "0c7a3ed37d1f4221a2a191efc6d96a03",
            "fd846b2cd9434dafb5c287d2fb59d5ab",
            "bc389fb7487c4fd2b31cc0117ad7ab12",
            "12c65d62c7224b18b08f3359733dda17",
            "0690b74634ae4351b5faec8c96a6b065",
            "6c3073584bf941978f252ed12b418626",
            "d6e2c7707d724638b8806cc98b098bcd",
            "069f9d035e17417eafaf20f63b9f69ae",
            "d588feefb09446ac90d02ef95d2d0e9d",
            "696b917557904d54ae45a9fa22d4fd97",
            "b38e3083d2fb4d01acc198c23103a802",
            "bd6550a975fd4b1cb956e214881940f8",
            "ed792594df974defad9babfe956f971d",
            "25bddce747e242c2a3502b3615edb031",
            "acca905282524804865573cd9558ded1",
            "9e74970f2f26468ebe0e1b1726240c55",
            "26a7f8c312b34821a8c55e3ae4750e92",
            "be4c9f31cd924d1cb494313fc07d0728",
            "f2c91d3d32bc4c638c03edcd950f3149",
            "94313ec65a1a474b9e007a3f6e1d1525",
            "b114bc01afb44130bae568cda1b1e06f"
          ]
        },
        "outputId": "3bb10c27-1ce7-4915-e2e7-8b317955d2fc"
      },
      "outputs": [
        {
          "output_type": "stream",
          "name": "stderr",
          "text": [
            "/usr/local/lib/python3.10/dist-packages/huggingface_hub/utils/_token.py:88: UserWarning: \n",
            "The secret `HF_TOKEN` does not exist in your Colab secrets.\n",
            "To authenticate with the Hugging Face Hub, create a token in your settings tab (https://huggingface.co/settings/tokens), set it as secret in your Google Colab and restart your session.\n",
            "You will be able to reuse this secret in all of your notebooks.\n",
            "Please note that authentication is recommended but still optional to access public models or datasets.\n",
            "  warnings.warn(\n"
          ]
        },
        {
          "output_type": "display_data",
          "data": {
            "text/plain": [
              "tokenizer_config.json:   0%|          | 0.00/48.0 [00:00<?, ?B/s]"
            ],
            "application/vnd.jupyter.widget-view+json": {
              "version_major": 2,
              "version_minor": 0,
              "model_id": "b669dd86d66a404597f8222410ad1f93"
            }
          },
          "metadata": {}
        },
        {
          "output_type": "display_data",
          "data": {
            "text/plain": [
              "vocab.txt:   0%|          | 0.00/232k [00:00<?, ?B/s]"
            ],
            "application/vnd.jupyter.widget-view+json": {
              "version_major": 2,
              "version_minor": 0,
              "model_id": "6cc7ea43dce44c4bb32e08b22994b8fb"
            }
          },
          "metadata": {}
        },
        {
          "output_type": "display_data",
          "data": {
            "text/plain": [
              "tokenizer.json:   0%|          | 0.00/466k [00:00<?, ?B/s]"
            ],
            "application/vnd.jupyter.widget-view+json": {
              "version_major": 2,
              "version_minor": 0,
              "model_id": "e6cc09c6eceb4c50a90da6509efe26c4"
            }
          },
          "metadata": {}
        },
        {
          "output_type": "display_data",
          "data": {
            "text/plain": [
              "config.json:   0%|          | 0.00/570 [00:00<?, ?B/s]"
            ],
            "application/vnd.jupyter.widget-view+json": {
              "version_major": 2,
              "version_minor": 0,
              "model_id": "b38e3083d2fb4d01acc198c23103a802"
            }
          },
          "metadata": {}
        }
      ],
      "source": [
        "tokenizer = BertTokenizer.from_pretrained('bert-base-uncased', do_lower_case=True)"
      ]
    },
    {
      "cell_type": "code",
      "execution_count": 24,
      "metadata": {
        "id": "DbJWgq_lGW3_",
        "colab": {
          "base_uri": "https://localhost:8080/"
        },
        "outputId": "31aec20d-2f2e-45d2-94fb-141b79f81093"
      },
      "outputs": [
        {
          "output_type": "stream",
          "name": "stdout",
          "text": [
            "CLS token: [CLS], ID: 101\n",
            "SEP token: [SEP], ID: 102\n"
          ]
        }
      ],
      "source": [
        "# Special tokens\n",
        "cls_token = tokenizer.cls_token\n",
        "sep_token = tokenizer.sep_token\n",
        "cls_token_id = tokenizer.cls_token_id\n",
        "sep_token_id = tokenizer.sep_token_id\n",
        "\n",
        "print(f\"CLS token: {cls_token}, ID: {cls_token_id}\")\n",
        "print(f\"SEP token: {sep_token}, ID: {sep_token_id}\")"
      ]
    },
    {
      "cell_type": "markdown",
      "metadata": {
        "id": "iDvN6fl8F8Pb"
      },
      "source": [
        "tokenizer.encode_plus is used to encode the text directly into the format expected by the BERT model,\n",
        "\n",
        "including:\n",
        "Token IDs: numeric representations of the tokens suitable for input to the model.\n",
        "Attention masks: binary mask indicating the position of the padded indices so the model does not attend to them.\n",
        "\n",
        "Special tokens: [CLS] and [SEP] tokens added to the start and end of the sentence, respectively."
      ]
    },
    {
      "cell_type": "code",
      "execution_count": 25,
      "metadata": {
        "id": "GwFTecodFTNJ",
        "colab": {
          "base_uri": "https://localhost:8080/"
        },
        "outputId": "8d9c838b-4efa-45ce-ee35-790345a0b639"
      },
      "outputs": [
        {
          "output_type": "stream",
          "name": "stdout",
          "text": [
            "['here', \"'\", 's', 'an', 'example', 'to', 'demonstrate', 'how', 'the', 'token', '##izer', 'works', '.']\n",
            "[2182, 1005, 1055, 2019, 2742, 2000, 10580, 2129, 1996, 19204, 17629, 2573, 1012]\n",
            "{'input_ids': tensor([[  101,  2182,  1005,  1055,  2019,  2742,  2000, 10580,  2129,  1996,\n",
            "         19204, 17629,  2573,  1012,   102]]), 'token_type_ids': tensor([[0, 0, 0, 0, 0, 0, 0, 0, 0, 0, 0, 0, 0, 0, 0]]), 'attention_mask': tensor([[1, 1, 1, 1, 1, 1, 1, 1, 1, 1, 1, 1, 1, 1, 1]])}\n"
          ]
        }
      ],
      "source": [
        "# Example text\n",
        "text = \"Here's an example to demonstrate how the tokenizer works.\"\n",
        "\n",
        "# Tokenize the text\n",
        "tokenized_text = tokenizer.tokenize(text)\n",
        "\n",
        "# Print the tokenized text\n",
        "print(tokenized_text)\n",
        "\n",
        "# Convert tokens to their corresponding IDs in the BERT vocabulary\n",
        "input_ids = tokenizer.convert_tokens_to_ids(tokenized_text)\n",
        "\n",
        "# Print the token IDs\n",
        "print(input_ids)\n",
        "\n",
        "# Encoding text directly to get dictionary of token IDs, attention masks, etc.\n",
        "encoded_input = tokenizer.encode_plus(text, add_special_tokens=True, return_tensors=\"pt\")\n",
        "\n",
        "# Print the encoded inputs\n",
        "print(encoded_input)"
      ]
    },
    {
      "cell_type": "markdown",
      "metadata": {
        "id": "Up5sXa5GG_uy"
      },
      "source": [
        "## How token_type_ids Work?\n",
        "\n",
        "Typically, token_type_ids are a sequence of binary values (i.e., 0 or 1) of the same length as the input tokens.\n",
        "A value of 0 might be used for the first sequence, and 1 for the second sequence. For single-sequence tasks, token_type_ids might be all zeros."
      ]
    },
    {
      "cell_type": "markdown",
      "metadata": {
        "id": "F07HedxIHYK3"
      },
      "source": [
        "## How attention_mask Works?\n",
        "\n",
        "The attention_mask is an array (or tensor) of binary values (1s and 0s) with the same length as the input sequence.\n",
        "A value of 1 indicates that the corresponding token is a part of the input (and should be paid attention to), whereas a 0 indicates a padding token (which should be ignored by the attention mechanism).\n",
        "During the attention calculations within the model, the mask is applied to effectively nullify the effect of padding tokens by setting their attention scores to a very large negative value, making their resulting softmax scores (and thus their contribution to the attention weighted sum) virtually zero."
      ]
    },
    {
      "cell_type": "markdown",
      "metadata": {
        "id": "arGrUA_gHnj0"
      },
      "source": [
        "## Enode training and validation text"
      ]
    },
    {
      "cell_type": "code",
      "execution_count": 26,
      "metadata": {
        "id": "vcR1AMHfH1k7"
      },
      "outputs": [],
      "source": [
        "encoded_data_train = tokenizer.batch_encode_plus(\n",
        "    X_train,\n",
        "    add_special_tokens = True,\n",
        "    return_attention_mask = True,\n",
        "    pad_to_max_length = True,\n",
        "    max_length = 256,\n",
        "    return_tensors = 'pt'\n",
        "    ,truncation=True\n",
        ")"
      ]
    },
    {
      "cell_type": "code",
      "execution_count": 27,
      "metadata": {
        "id": "nQs9MdlXJBOF",
        "colab": {
          "base_uri": "https://localhost:8080/"
        },
        "outputId": "80e960af-6478-4972-f83a-9fe217971011"
      },
      "outputs": [
        {
          "output_type": "stream",
          "name": "stderr",
          "text": [
            "/usr/local/lib/python3.10/dist-packages/transformers/tokenization_utils_base.py:2663: UserWarning: `max_length` is ignored when `padding`=`True` and there is no truncation strategy. To pad to max length, use `padding='max_length'`.\n",
            "  warnings.warn(\n"
          ]
        }
      ],
      "source": [
        "encoded_data_val = tokenizer.batch_encode_plus(\n",
        "    X_val,\n",
        "    add_special_tokens = True,\n",
        "    return_attention_mask = True,\n",
        "    max_length = 256,\n",
        "    return_tensors = 'pt',\n",
        "    padding=True\n",
        ")"
      ]
    },
    {
      "cell_type": "code",
      "execution_count": 28,
      "metadata": {
        "id": "HL6PK7uUIGpM",
        "colab": {
          "base_uri": "https://localhost:8080/"
        },
        "outputId": "bed629ec-fe0e-41a7-e50a-104984df4f9b"
      },
      "outputs": [
        {
          "output_type": "stream",
          "name": "stdout",
          "text": [
            "First input's encoded IDs: tensor([  101,  1030,  4459,  2595,  6834,  1030, 11268,  5558, 19281,  2378,\n",
            "         1030,  2329,  7606, 14820,  1045,  2165,  2023,  3861,  2096,  1045,\n",
            "         2001,  1999,  1996,  8756,  1012,  4658,  4355,  2712,  6071,  2412,\n",
            "         1012,  8299,  1024,  1013,  1013,  1056,  1012,  2522,  1013,  7861,\n",
            "         2094,  9759,  2860,  7959, 10322,   102,     0,     0,     0,     0,\n",
            "            0,     0,     0,     0,     0,     0,     0,     0,     0,     0,\n",
            "            0,     0,     0,     0,     0,     0,     0,     0,     0,     0,\n",
            "            0,     0,     0,     0,     0,     0,     0,     0,     0,     0,\n",
            "            0,     0,     0,     0,     0,     0,     0,     0,     0,     0,\n",
            "            0,     0,     0,     0,     0,     0,     0,     0,     0,     0,\n",
            "            0,     0,     0,     0,     0,     0,     0,     0,     0,     0,\n",
            "            0,     0,     0,     0,     0,     0,     0,     0,     0,     0,\n",
            "            0,     0,     0,     0,     0,     0,     0,     0,     0,     0,\n",
            "            0,     0,     0,     0,     0,     0,     0,     0,     0,     0,\n",
            "            0,     0,     0,     0,     0,     0,     0,     0,     0,     0,\n",
            "            0,     0,     0,     0,     0,     0,     0,     0,     0,     0,\n",
            "            0,     0,     0,     0,     0,     0,     0,     0,     0,     0,\n",
            "            0,     0,     0,     0,     0,     0,     0,     0,     0,     0,\n",
            "            0,     0,     0,     0,     0,     0,     0,     0,     0,     0,\n",
            "            0,     0,     0,     0,     0,     0,     0,     0,     0,     0,\n",
            "            0,     0,     0,     0,     0,     0,     0,     0,     0,     0,\n",
            "            0,     0,     0,     0,     0,     0,     0,     0,     0,     0,\n",
            "            0,     0,     0,     0,     0,     0,     0,     0,     0,     0,\n",
            "            0,     0,     0,     0,     0,     0,     0,     0,     0,     0,\n",
            "            0,     0,     0,     0,     0,     0,     0,     0,     0,     0,\n",
            "            0,     0,     0,     0,     0,     0])\n",
            "-----------------------------------------------------------------------------------\n",
            "First input's attention mask: tensor([1, 1, 1, 1, 1, 1, 1, 1, 1, 1, 1, 1, 1, 1, 1, 1, 1, 1, 1, 1, 1, 1, 1, 1,\n",
            "        1, 1, 1, 1, 1, 1, 1, 1, 1, 1, 1, 1, 1, 1, 1, 1, 1, 1, 1, 1, 1, 1, 0, 0,\n",
            "        0, 0, 0, 0, 0, 0, 0, 0, 0, 0, 0, 0, 0, 0, 0, 0, 0, 0, 0, 0, 0, 0, 0, 0,\n",
            "        0, 0, 0, 0, 0, 0, 0, 0, 0, 0, 0, 0, 0, 0, 0, 0, 0, 0, 0, 0, 0, 0, 0, 0,\n",
            "        0, 0, 0, 0, 0, 0, 0, 0, 0, 0, 0, 0, 0, 0, 0, 0, 0, 0, 0, 0, 0, 0, 0, 0,\n",
            "        0, 0, 0, 0, 0, 0, 0, 0, 0, 0, 0, 0, 0, 0, 0, 0, 0, 0, 0, 0, 0, 0, 0, 0,\n",
            "        0, 0, 0, 0, 0, 0, 0, 0, 0, 0, 0, 0, 0, 0, 0, 0, 0, 0, 0, 0, 0, 0, 0, 0,\n",
            "        0, 0, 0, 0, 0, 0, 0, 0, 0, 0, 0, 0, 0, 0, 0, 0, 0, 0, 0, 0, 0, 0, 0, 0,\n",
            "        0, 0, 0, 0, 0, 0, 0, 0, 0, 0, 0, 0, 0, 0, 0, 0, 0, 0, 0, 0, 0, 0, 0, 0,\n",
            "        0, 0, 0, 0, 0, 0, 0, 0, 0, 0, 0, 0, 0, 0, 0, 0, 0, 0, 0, 0, 0, 0, 0, 0,\n",
            "        0, 0, 0, 0, 0, 0, 0, 0, 0, 0, 0, 0, 0, 0, 0, 0])\n"
          ]
        }
      ],
      "source": [
        "# Viewing the contents\n",
        "input_ids = encoded_data_train['input_ids']\n",
        "attention_masks = encoded_data_train['attention_mask']\n",
        "\n",
        "# To view a specific entry, for example, the first input\n",
        "print(f\"First input's encoded IDs: {input_ids[0]}\")\n",
        "print(\"-----------------------------------------------------------------------------------\")\n",
        "print(f\"First input's attention mask: {attention_masks[0]}\")"
      ]
    },
    {
      "cell_type": "code",
      "execution_count": 29,
      "metadata": {
        "id": "Osz9HMQiIyoU",
        "colab": {
          "base_uri": "https://localhost:8080/"
        },
        "outputId": "57efadc5-9309-4769-bf95-813f673b118c"
      },
      "outputs": [
        {
          "output_type": "stream",
          "name": "stdout",
          "text": [
            "['[CLS]', '@', 'stephen', '##x', '##king', '@', 'prof', '##jo', '##eca', '##in', '@', 'british', '##mus', '##eum', 'i', 'took', 'this', 'picture', 'while', 'i', 'was', 'in', 'the', 'archive', '.', 'cool', '##est', 'sea', 'monster', 'ever', '.', 'http', ':', '/', '/', 't', '.', 'co', '/', 'em', '##d', '##zu', '##w', '##fe', '##bb', '[SEP]', '[PAD]', '[PAD]', '[PAD]', '[PAD]', '[PAD]', '[PAD]', '[PAD]', '[PAD]', '[PAD]', '[PAD]', '[PAD]', '[PAD]', '[PAD]', '[PAD]', '[PAD]', '[PAD]', '[PAD]', '[PAD]', '[PAD]', '[PAD]', '[PAD]', '[PAD]', '[PAD]', '[PAD]', '[PAD]', '[PAD]', '[PAD]', '[PAD]', '[PAD]', '[PAD]', '[PAD]', '[PAD]', '[PAD]', '[PAD]', '[PAD]', '[PAD]', '[PAD]', '[PAD]', '[PAD]', '[PAD]', '[PAD]', '[PAD]', '[PAD]', '[PAD]', '[PAD]', '[PAD]', '[PAD]', '[PAD]', '[PAD]', '[PAD]', '[PAD]', '[PAD]', '[PAD]', '[PAD]', '[PAD]', '[PAD]', '[PAD]', '[PAD]', '[PAD]', '[PAD]', '[PAD]', '[PAD]', '[PAD]', '[PAD]', '[PAD]', '[PAD]', '[PAD]', '[PAD]', '[PAD]', '[PAD]', '[PAD]', '[PAD]', '[PAD]', '[PAD]', '[PAD]', '[PAD]', '[PAD]', '[PAD]', '[PAD]', '[PAD]', '[PAD]', '[PAD]', '[PAD]', '[PAD]', '[PAD]', '[PAD]', '[PAD]', '[PAD]', '[PAD]', '[PAD]', '[PAD]', '[PAD]', '[PAD]', '[PAD]', '[PAD]', '[PAD]', '[PAD]', '[PAD]', '[PAD]', '[PAD]', '[PAD]', '[PAD]', '[PAD]', '[PAD]', '[PAD]', '[PAD]', '[PAD]', '[PAD]', '[PAD]', '[PAD]', '[PAD]', '[PAD]', '[PAD]', '[PAD]', '[PAD]', '[PAD]', '[PAD]', '[PAD]', '[PAD]', '[PAD]', '[PAD]', '[PAD]', '[PAD]', '[PAD]', '[PAD]', '[PAD]', '[PAD]', '[PAD]', '[PAD]', '[PAD]', '[PAD]', '[PAD]', '[PAD]', '[PAD]', '[PAD]', '[PAD]', '[PAD]', '[PAD]', '[PAD]', '[PAD]', '[PAD]', '[PAD]', '[PAD]', '[PAD]', '[PAD]', '[PAD]', '[PAD]', '[PAD]', '[PAD]', '[PAD]', '[PAD]', '[PAD]', '[PAD]', '[PAD]', '[PAD]', '[PAD]', '[PAD]', '[PAD]', '[PAD]', '[PAD]', '[PAD]', '[PAD]', '[PAD]', '[PAD]', '[PAD]', '[PAD]', '[PAD]', '[PAD]', '[PAD]', '[PAD]', '[PAD]', '[PAD]', '[PAD]', '[PAD]', '[PAD]', '[PAD]', '[PAD]', '[PAD]', '[PAD]', '[PAD]', '[PAD]', '[PAD]', '[PAD]', '[PAD]', '[PAD]', '[PAD]', '[PAD]', '[PAD]', '[PAD]', '[PAD]', '[PAD]', '[PAD]', '[PAD]', '[PAD]', '[PAD]', '[PAD]', '[PAD]', '[PAD]', '[PAD]', '[PAD]', '[PAD]', '[PAD]', '[PAD]', '[PAD]', '[PAD]', '[PAD]', '[PAD]', '[PAD]', '[PAD]', '[PAD]']\n"
          ]
        }
      ],
      "source": [
        "# If you want to see the tokens corresponding to the first input's encoded IDs\n",
        "tokens = tokenizer.convert_ids_to_tokens(input_ids[0])\n",
        "print(tokens)"
      ]
    },
    {
      "cell_type": "markdown",
      "metadata": {
        "id": "tVE2_0_HKjhx"
      },
      "source": [
        "## create dataset for training and validation"
      ]
    },
    {
      "cell_type": "code",
      "execution_count": 30,
      "metadata": {
        "id": "h_BHwBzYstz1"
      },
      "outputs": [],
      "source": [
        "input_ids_train = encoded_data_train['input_ids']\n",
        "attention_masks_train = encoded_data_train['attention_mask']\n",
        "input_ids_val = encoded_data_val['input_ids']\n",
        "attention_masks_val = encoded_data_val['attention_mask']"
      ]
    },
    {
      "cell_type": "code",
      "execution_count": 31,
      "metadata": {
        "id": "oxuUM4jOJmgs"
      },
      "outputs": [],
      "source": [
        "labels_train = torch.tensor(y_train)\n",
        "labels_val = torch.tensor(y_val)"
      ]
    },
    {
      "cell_type": "code",
      "execution_count": 32,
      "metadata": {
        "id": "b1xkxDkkstz1"
      },
      "outputs": [],
      "source": [
        "dataset_train = TensorDataset(input_ids_train, attention_masks_train, labels_train)\n",
        "dataset_val = TensorDataset(input_ids_val, attention_masks_val, labels_val)"
      ]
    },
    {
      "cell_type": "code",
      "source": [
        "# Save the datasets\n",
        "import os\n",
        "\n",
        "# Define the folder name\n",
        "folder_name = \"data\"\n",
        "\n",
        "# Check if the folder exists, if not, create it\n",
        "if not os.path.exists(folder_name):\n",
        "    os.makedirs(folder_name)\n",
        "    print(\"Folder 'data' created.\")\n",
        "else:\n",
        "    print(\"Folder 'data' already exists.\")\n",
        "torch.save(dataset_train, 'data/dataset_train.pt')\n",
        "torch.save(dataset_val, 'data/dataset_val.pt')"
      ],
      "metadata": {
        "id": "yBJB8bddN_w7",
        "colab": {
          "base_uri": "https://localhost:8080/"
        },
        "outputId": "a3202a57-3e4e-44b1-b5ba-ff01377f8bce"
      },
      "execution_count": 33,
      "outputs": [
        {
          "output_type": "stream",
          "name": "stdout",
          "text": [
            "Folder 'data' created.\n"
          ]
        }
      ]
    },
    {
      "cell_type": "code",
      "source": [
        "  # Prepare the data to be stored in JSON format\n",
        "  data_to_store = {\n",
        "      'num_unique_values': num_unique_values,\n",
        "      'unique_values': unique_values,\n",
        "      'label_to_category':label_to_category\n",
        "  }\n",
        "\n",
        "  # Write the data to a JSON file\n",
        "  with open('data_info.json', 'w') as json_file:\n",
        "      json.dump(data_to_store, json_file, indent=4)\n",
        "\n",
        "  print(\"Data Info stored in data_info.json successfully.\")"
      ],
      "metadata": {
        "colab": {
          "base_uri": "https://localhost:8080/"
        },
        "id": "ZHPJgQcNGI9y",
        "outputId": "1eccc1c9-56de-4f18-d066-7ffd37ab13df"
      },
      "execution_count": 58,
      "outputs": [
        {
          "output_type": "stream",
          "name": "stdout",
          "text": [
            "Data Info stored in data_info.json successfully.\n"
          ]
        }
      ]
    },
    {
      "cell_type": "markdown",
      "source": [
        "## Data prepeocessing as a single script"
      ],
      "metadata": {
        "id": "Q-eVMt1mRPFC"
      }
    },
    {
      "cell_type": "code",
      "source": [
        "from transformers import BertTokenizer\n",
        "from torch.utils.data import TensorDataset\n",
        "import torch\n",
        "import os\n",
        "import pandas as pd\n",
        "from sklearn.model_selection import train_test_split\n",
        "import json\n",
        "import numpy as np\n",
        "def preprocess(data_path):\n",
        "  df = pd.read_csv(data_path, names=['id', 'text', 'category'])\n",
        "  # Drop column 'id'\n",
        "  df = df.drop('id', axis=1)\n",
        "  # Values to be removed\n",
        "  values_to_remove = [\"nocode\",'happy|surprise', 'happy|sad',\"disgust|angry\",\"sad|disgust\",\"sad|angry\",\"sad|disgust|angry\"]\n",
        "  # Remove rows where column 'category' has values from values_to_remove\n",
        "  df = df[~df['category'].isin(values_to_remove)]\n",
        "  # Convert string values in 'category' to unique integer values\n",
        "  df['label'],uniques = pd.factorize(df['category'])\n",
        "  # Create a mapping from integer values to original category labels\n",
        "  label_to_category = {index: label for index, label in enumerate(uniques)}\n",
        "  # To get the reverse mapping from category labels to integer values\n",
        "  category_to_label = {label: index for index, label in label_to_category.items()}\n",
        "  # Get the number of unique values in the 'labels' column\n",
        "  num_unique_values = df['label'].nunique()\n",
        "  unique_values = df['category'].unique().tolist()\n",
        "  X_train, X_val, y_train, y_val = train_test_split(\n",
        "    df.text.values,\n",
        "    df.label.values,\n",
        "    test_size = 0.15,\n",
        "    random_state = 17,\n",
        "    stratify = df.label.values)\n",
        "  return X_train, X_val, y_train, y_val,num_unique_values,unique_values,label_to_category\n",
        "\n",
        "def tokenize(X_train,X_val):\n",
        "  tokenizer = BertTokenizer.from_pretrained('bert-base-uncased', do_lower_case=True)\n",
        "  encoded_data_train = tokenizer.batch_encode_plus(\n",
        "      X_train,\n",
        "      add_special_tokens = True,\n",
        "      return_attention_mask = True,\n",
        "      max_length = 256,\n",
        "      padding='max_length',\n",
        "      return_tensors = 'pt'\n",
        "      ,truncation=True)\n",
        "\n",
        "  encoded_data_val = tokenizer.batch_encode_plus(\n",
        "    X_val,\n",
        "    add_special_tokens = True,\n",
        "    return_attention_mask = True,\n",
        "\n",
        "    return_tensors = 'pt',\n",
        "    padding='max_length',\n",
        "    max_length = 256,)\n",
        "  return encoded_data_train,encoded_data_val\n",
        "\n",
        "def create_save_dataset(encoded_data_train,encoded_data_val,y_train,y_val,label_to_category):\n",
        "\n",
        "  input_ids_train = encoded_data_train['input_ids']\n",
        "  attention_masks_train = encoded_data_train['attention_mask']\n",
        "  input_ids_val = encoded_data_val['input_ids']\n",
        "  attention_masks_val = encoded_data_val['attention_mask']\n",
        "\n",
        "  # Find unique elements\n",
        "  unique_elements = np.unique(y_train)\n",
        "  # Get the number of unique elements\n",
        "  num_unique_values = len(unique_elements)\n",
        "\n",
        "\n",
        "  labels_train = torch.tensor(y_train)\n",
        "  labels_val = torch.tensor(y_val)\n",
        "  dataset_train = TensorDataset(input_ids_train, attention_masks_train, labels_train)\n",
        "  dataset_val = TensorDataset(input_ids_val, attention_masks_val, labels_val)\n",
        "\n",
        "  # Save the datasets\n",
        "\n",
        "  # Define the folder name\n",
        "  folder_name = \"data\"\n",
        "\n",
        "  # Check if the folder exists, if not, create it\n",
        "  if not os.path.exists(folder_name):\n",
        "      os.makedirs(folder_name)\n",
        "      print(\"Folder 'data' created.\")\n",
        "  else:\n",
        "      print(\"Folder 'data' already exists.\")\n",
        "  torch.save(dataset_train, 'data/dataset_train.pt')\n",
        "  torch.save(dataset_val, 'data/dataset_val.pt')\n",
        "  print(\"[INFO] Fils  dataset_train.pt and  dataset_val.pt saved to folder data\")\n",
        "\n",
        "\n",
        "  # Prepare the data to be stored in JSON format\n",
        "  data_to_store = {\n",
        "      'num_unique_values': num_unique_values,\n",
        "      'unique_values': unique_values,\n",
        "      'label_to_category':label_to_category\n",
        "  }\n",
        "\n",
        "  # Write the data to a JSON file\n",
        "  with open('data_info.json', 'w') as json_file:\n",
        "      json.dump(data_to_store, json_file, indent=4)\n",
        "\n",
        "  print(\"Data Info stored in data_info.json successfully.\")\n"
      ],
      "metadata": {
        "id": "QZ92AvXJROea"
      },
      "execution_count": 34,
      "outputs": []
    },
    {
      "cell_type": "code",
      "source": [
        "X_train, X_val, y_train, y_val,num_unique_values,unique_values,label_to_category=preprocess(\"smileannotationsfinal.csv\")\n",
        "encoded_data_train,encoded_data_val=tokenize(X_train,X_val)\n",
        "create_save_dataset(encoded_data_train,encoded_data_val,y_train,y_val,label_to_category)"
      ],
      "metadata": {
        "colab": {
          "base_uri": "https://localhost:8080/"
        },
        "id": "aLaIUsZNUS3F",
        "outputId": "79e7a7c7-6f4d-4384-d826-b481b4c762e7"
      },
      "execution_count": 5,
      "outputs": [
        {
          "output_type": "stream",
          "name": "stdout",
          "text": [
            "Folder 'data' created.\n",
            "[INFO] Fils  dataset_train.pt and  dataset_val.pt saved to folder data\n",
            "Data Info stored in data_info.json successfully.\n"
          ]
        }
      ]
    },
    {
      "cell_type": "markdown",
      "metadata": {
        "id": "U_i9hwd2st0F"
      },
      "source": [
        "# 2-Training"
      ]
    },
    {
      "cell_type": "code",
      "source": [
        "# Check if CUDA is available and set the device accordingly\n",
        "device = torch.device(\"cuda\" if torch.cuda.is_available() else \"cpu\")\n",
        "\n",
        "print(f\"Using device: {device}\")"
      ],
      "metadata": {
        "colab": {
          "base_uri": "https://localhost:8080/"
        },
        "id": "AVoS1AmnQneu",
        "outputId": "29040297-4f69-4d4b-8d1d-6a6d9729034b"
      },
      "execution_count": 35,
      "outputs": [
        {
          "output_type": "stream",
          "name": "stdout",
          "text": [
            "Using device: cuda\n"
          ]
        }
      ]
    },
    {
      "cell_type": "markdown",
      "metadata": {
        "id": "MXbPq6QBst0D"
      },
      "source": [
        "## Setting up BERT Pretrained Model"
      ]
    },
    {
      "cell_type": "code",
      "execution_count": 36,
      "metadata": {
        "id": "mrSQyuXfst0E",
        "colab": {
          "base_uri": "https://localhost:8080/",
          "height": 104,
          "referenced_widgets": [
            "21bd55952b9a47b0a96efff7a9da4706",
            "b7a9a8b9e8c74f7997cbe6ff0f8b5129",
            "228a938d46b04c599dd11ea6b5861bbd",
            "c47a75217ce04bf992577887f20d53d8",
            "5b76a7caaecd4739aad39693c0b5789c",
            "f5f75b815f104525a7ee1e680974e8f2",
            "51df4e89b6da4e2ea15e1523819612bd",
            "341f228344a8407baf93e2248bf78e11",
            "2ca185eebfc74ad5ae6c1f9b4da4b898",
            "c2364a48b3e84592ab4e80b9ec0f1756",
            "4ca45e276d204055b9fb1d6a2dd97c00"
          ]
        },
        "outputId": "3fb29d11-2853-4cb6-cad0-f3168d51edba"
      },
      "outputs": [
        {
          "output_type": "display_data",
          "data": {
            "text/plain": [
              "model.safetensors:   0%|          | 0.00/440M [00:00<?, ?B/s]"
            ],
            "application/vnd.jupyter.widget-view+json": {
              "version_major": 2,
              "version_minor": 0,
              "model_id": "21bd55952b9a47b0a96efff7a9da4706"
            }
          },
          "metadata": {}
        },
        {
          "output_type": "stream",
          "name": "stderr",
          "text": [
            "Some weights of BertForSequenceClassification were not initialized from the model checkpoint at bert-base-uncased and are newly initialized: ['classifier.bias', 'classifier.weight']\n",
            "You should probably TRAIN this model on a down-stream task to be able to use it for predictions and inference.\n"
          ]
        }
      ],
      "source": [
        "model = BertForSequenceClassification.from_pretrained(\n",
        "    'bert-base-uncased',\n",
        "    num_labels = num_unique_values,\n",
        "    output_attentions = False,\n",
        "    output_hidden_states = False\n",
        ")"
      ]
    },
    {
      "cell_type": "code",
      "execution_count": 37,
      "metadata": {
        "id": "eGszpRxaUVMa",
        "colab": {
          "base_uri": "https://localhost:8080/"
        },
        "outputId": "3073c425-c737-4a43-e032-2da305c786b5"
      },
      "outputs": [
        {
          "output_type": "execute_result",
          "data": {
            "text/plain": [
              "BertForSequenceClassification(\n",
              "  (bert): BertModel(\n",
              "    (embeddings): BertEmbeddings(\n",
              "      (word_embeddings): Embedding(30522, 768, padding_idx=0)\n",
              "      (position_embeddings): Embedding(512, 768)\n",
              "      (token_type_embeddings): Embedding(2, 768)\n",
              "      (LayerNorm): LayerNorm((768,), eps=1e-12, elementwise_affine=True)\n",
              "      (dropout): Dropout(p=0.1, inplace=False)\n",
              "    )\n",
              "    (encoder): BertEncoder(\n",
              "      (layer): ModuleList(\n",
              "        (0-11): 12 x BertLayer(\n",
              "          (attention): BertAttention(\n",
              "            (self): BertSelfAttention(\n",
              "              (query): Linear(in_features=768, out_features=768, bias=True)\n",
              "              (key): Linear(in_features=768, out_features=768, bias=True)\n",
              "              (value): Linear(in_features=768, out_features=768, bias=True)\n",
              "              (dropout): Dropout(p=0.1, inplace=False)\n",
              "            )\n",
              "            (output): BertSelfOutput(\n",
              "              (dense): Linear(in_features=768, out_features=768, bias=True)\n",
              "              (LayerNorm): LayerNorm((768,), eps=1e-12, elementwise_affine=True)\n",
              "              (dropout): Dropout(p=0.1, inplace=False)\n",
              "            )\n",
              "          )\n",
              "          (intermediate): BertIntermediate(\n",
              "            (dense): Linear(in_features=768, out_features=3072, bias=True)\n",
              "            (intermediate_act_fn): GELUActivation()\n",
              "          )\n",
              "          (output): BertOutput(\n",
              "            (dense): Linear(in_features=3072, out_features=768, bias=True)\n",
              "            (LayerNorm): LayerNorm((768,), eps=1e-12, elementwise_affine=True)\n",
              "            (dropout): Dropout(p=0.1, inplace=False)\n",
              "          )\n",
              "        )\n",
              "      )\n",
              "    )\n",
              "    (pooler): BertPooler(\n",
              "      (dense): Linear(in_features=768, out_features=768, bias=True)\n",
              "      (activation): Tanh()\n",
              "    )\n",
              "  )\n",
              "  (dropout): Dropout(p=0.1, inplace=False)\n",
              "  (classifier): Linear(in_features=768, out_features=6, bias=True)\n",
              ")"
            ]
          },
          "metadata": {},
          "execution_count": 37
        }
      ],
      "source": [
        "model.to(device)\n"
      ]
    },
    {
      "cell_type": "code",
      "execution_count": 38,
      "metadata": {
        "id": "NRGWB8g_LFHM",
        "colab": {
          "base_uri": "https://localhost:8080/"
        },
        "outputId": "c1d15de9-64fb-4a42-80d2-fea70f2e87f5"
      },
      "outputs": [
        {
          "output_type": "stream",
          "name": "stdout",
          "text": [
            "<class 'transformers.models.bert.modeling_bert.BertForSequenceClassification'>\n",
            "----------------------------------------------------------------------\n",
            "BertForSequenceClassification(\n",
            "  (bert): BertModel(\n",
            "    (embeddings): BertEmbeddings(\n",
            "      (word_embeddings): Embedding(30522, 768, padding_idx=0)\n",
            "      (position_embeddings): Embedding(512, 768)\n",
            "      (token_type_embeddings): Embedding(2, 768)\n",
            "      (LayerNorm): LayerNorm((768,), eps=1e-12, elementwise_affine=True)\n",
            "      (dropout): Dropout(p=0.1, inplace=False)\n",
            "    )\n",
            "    (encoder): BertEncoder(\n",
            "      (layer): ModuleList(\n",
            "        (0-11): 12 x BertLayer(\n",
            "          (attention): BertAttention(\n",
            "            (self): BertSelfAttention(\n",
            "              (query): Linear(in_features=768, out_features=768, bias=True)\n",
            "              (key): Linear(in_features=768, out_features=768, bias=True)\n",
            "              (value): Linear(in_features=768, out_features=768, bias=True)\n",
            "              (dropout): Dropout(p=0.1, inplace=False)\n",
            "            )\n",
            "            (output): BertSelfOutput(\n",
            "              (dense): Linear(in_features=768, out_features=768, bias=True)\n",
            "              (LayerNorm): LayerNorm((768,), eps=1e-12, elementwise_affine=True)\n",
            "              (dropout): Dropout(p=0.1, inplace=False)\n",
            "            )\n",
            "          )\n",
            "          (intermediate): BertIntermediate(\n",
            "            (dense): Linear(in_features=768, out_features=3072, bias=True)\n",
            "            (intermediate_act_fn): GELUActivation()\n",
            "          )\n",
            "          (output): BertOutput(\n",
            "            (dense): Linear(in_features=3072, out_features=768, bias=True)\n",
            "            (LayerNorm): LayerNorm((768,), eps=1e-12, elementwise_affine=True)\n",
            "            (dropout): Dropout(p=0.1, inplace=False)\n",
            "          )\n",
            "        )\n",
            "      )\n",
            "    )\n",
            "    (pooler): BertPooler(\n",
            "      (dense): Linear(in_features=768, out_features=768, bias=True)\n",
            "      (activation): Tanh()\n",
            "    )\n",
            "  )\n",
            "  (dropout): Dropout(p=0.1, inplace=False)\n",
            "  (classifier): Linear(in_features=768, out_features=6, bias=True)\n",
            ")\n"
          ]
        }
      ],
      "source": [
        "print(type((model)))\n",
        "print(\"-\"*70)\n",
        "print(model)"
      ]
    },
    {
      "cell_type": "markdown",
      "metadata": {
        "id": "SAr6lBEmst0E"
      },
      "source": [
        "## Creating Data Loaders"
      ]
    },
    {
      "cell_type": "code",
      "execution_count": 39,
      "metadata": {
        "id": "OhgaCpgTst0F"
      },
      "outputs": [],
      "source": [
        "batch_size = 4 #32\n",
        "dataloader_train = DataLoader(\n",
        "    dataset_train,\n",
        "    sampler = RandomSampler(dataset_train),\n",
        "    batch_size = batch_size\n",
        ")\n",
        "\n",
        "dataloader_validation = DataLoader(\n",
        "    dataset_val,\n",
        "    sampler = SequentialSampler(dataset_val),\n",
        "    batch_size = 32\n",
        ")"
      ]
    },
    {
      "cell_type": "markdown",
      "metadata": {
        "id": "FMg0gLCZSA1u"
      },
      "source": [
        "## Setting optimizer"
      ]
    },
    {
      "cell_type": "code",
      "execution_count": 40,
      "metadata": {
        "id": "4fYZFOf4st0G"
      },
      "outputs": [],
      "source": [
        "optimizer = torch.optim.AdamW(\n",
        "    model.parameters(),\n",
        "    lr = 1e-5, #2e-5 to 5e-5\n",
        "    eps = 1e-8\n",
        ")\n"
      ]
    },
    {
      "cell_type": "markdown",
      "source": [
        "## Training using Pytorch"
      ],
      "metadata": {
        "id": "9Mx7xIBSg-L1"
      }
    },
    {
      "cell_type": "code",
      "source": [
        "# Store the average loss after each epoch so we can plot them.\n",
        "loss_values = []\n",
        "epochs=10\n",
        "for epoch in range(1, epochs+1):\n",
        "    model.train()\n",
        "    total_loss = 0\n",
        "\n",
        "    for step, batch in enumerate(tqdm(dataloader_train, desc=f\"Epoch {epoch}\")):\n",
        "        batch = tuple(t.to(device) for t in batch)\n",
        "        inputs = {'input_ids':      batch[0],\n",
        "                  'attention_mask': batch[1],\n",
        "                  'labels':         batch[2]}\n",
        "\n",
        "        model.zero_grad()\n",
        "\n",
        "        outputs = model(**inputs)\n",
        "        loss = outputs[0]\n",
        "        total_loss += loss.item()\n",
        "\n",
        "        loss.backward()\n",
        "        optimizer.step()\n",
        "\n",
        "    avg_train_loss = total_loss / len(dataloader_train)\n",
        "    loss_values.append(avg_train_loss)\n",
        "\n",
        "    print(f\"Epoch {epoch} | Average Training Loss: {avg_train_loss}\")"
      ],
      "metadata": {
        "id": "VwXOwibFg9n8",
        "colab": {
          "base_uri": "https://localhost:8080/"
        },
        "outputId": "94734b4d-7801-49ec-9f19-77e8a4a33740"
      },
      "execution_count": 42,
      "outputs": [
        {
          "output_type": "stream",
          "name": "stderr",
          "text": [
            "Epoch 1: 100%|██████████| 315/315 [01:01<00:00,  5.11it/s]\n"
          ]
        },
        {
          "output_type": "stream",
          "name": "stdout",
          "text": [
            "Epoch 1 | Average Training Loss: 0.7344699287698382\n"
          ]
        },
        {
          "output_type": "stream",
          "name": "stderr",
          "text": [
            "Epoch 2: 100%|██████████| 315/315 [01:01<00:00,  5.09it/s]\n"
          ]
        },
        {
          "output_type": "stream",
          "name": "stdout",
          "text": [
            "Epoch 2 | Average Training Loss: 0.4244885874291261\n"
          ]
        },
        {
          "output_type": "stream",
          "name": "stderr",
          "text": [
            "Epoch 3: 100%|██████████| 315/315 [01:01<00:00,  5.10it/s]\n"
          ]
        },
        {
          "output_type": "stream",
          "name": "stdout",
          "text": [
            "Epoch 3 | Average Training Loss: 0.25822140106724367\n"
          ]
        },
        {
          "output_type": "stream",
          "name": "stderr",
          "text": [
            "Epoch 4: 100%|██████████| 315/315 [01:01<00:00,  5.12it/s]\n"
          ]
        },
        {
          "output_type": "stream",
          "name": "stdout",
          "text": [
            "Epoch 4 | Average Training Loss: 0.17016460233855815\n"
          ]
        },
        {
          "output_type": "stream",
          "name": "stderr",
          "text": [
            "Epoch 5: 100%|██████████| 315/315 [01:01<00:00,  5.11it/s]\n"
          ]
        },
        {
          "output_type": "stream",
          "name": "stdout",
          "text": [
            "Epoch 5 | Average Training Loss: 0.09883373414151489\n"
          ]
        },
        {
          "output_type": "stream",
          "name": "stderr",
          "text": [
            "Epoch 6: 100%|██████████| 315/315 [01:01<00:00,  5.12it/s]\n"
          ]
        },
        {
          "output_type": "stream",
          "name": "stdout",
          "text": [
            "Epoch 6 | Average Training Loss: 0.0604415631209988\n"
          ]
        },
        {
          "output_type": "stream",
          "name": "stderr",
          "text": [
            "Epoch 7: 100%|██████████| 315/315 [01:01<00:00,  5.11it/s]\n"
          ]
        },
        {
          "output_type": "stream",
          "name": "stdout",
          "text": [
            "Epoch 7 | Average Training Loss: 0.044727887626781704\n"
          ]
        },
        {
          "output_type": "stream",
          "name": "stderr",
          "text": [
            "Epoch 8: 100%|██████████| 315/315 [01:01<00:00,  5.12it/s]\n"
          ]
        },
        {
          "output_type": "stream",
          "name": "stdout",
          "text": [
            "Epoch 8 | Average Training Loss: 0.03560302292610267\n"
          ]
        },
        {
          "output_type": "stream",
          "name": "stderr",
          "text": [
            "Epoch 9: 100%|██████████| 315/315 [01:01<00:00,  5.11it/s]\n"
          ]
        },
        {
          "output_type": "stream",
          "name": "stdout",
          "text": [
            "Epoch 9 | Average Training Loss: 0.017495415625827654\n"
          ]
        },
        {
          "output_type": "stream",
          "name": "stderr",
          "text": [
            "Epoch 10: 100%|██████████| 315/315 [01:01<00:00,  5.12it/s]"
          ]
        },
        {
          "output_type": "stream",
          "name": "stdout",
          "text": [
            "Epoch 10 | Average Training Loss: 0.01606700157983199\n"
          ]
        },
        {
          "output_type": "stream",
          "name": "stderr",
          "text": [
            "\n"
          ]
        }
      ]
    },
    {
      "cell_type": "code",
      "source": [
        "\n",
        "# Plotting the training loss\n",
        "plt.figure(figsize=(10, 6))\n",
        "plt.plot(loss_values, 'b-o')\n",
        "\n",
        "plt.title(\"Training Loss-BERT Sentiment Analysis \")\n",
        "plt.xlabel(\"Epoch\")\n",
        "plt.ylabel(\"Loss\")\n",
        "plt.xticks(range(1, epochs+1))\n",
        "plt.show()"
      ],
      "metadata": {
        "id": "1ng8e-BchTD8",
        "colab": {
          "base_uri": "https://localhost:8080/",
          "height": 564
        },
        "outputId": "3ca6bc64-6f14-4ab1-db47-8bf86c333c2e"
      },
      "execution_count": 54,
      "outputs": [
        {
          "output_type": "display_data",
          "data": {
            "text/plain": [
              "<Figure size 1000x600 with 1 Axes>"
            ],
            "image/png": "[encoded data removed]"
          },
          "metadata": {}
        }
      ]
    },
    {
      "cell_type": "code",
      "source": [
        "torch.save(model.state_dict(), f'Bert_ft.pt')"
      ],
      "metadata": {
        "id": "nP77DVwMiBur"
      },
      "execution_count": 55,
      "outputs": []
    },
    {
      "cell_type": "markdown",
      "source": [
        "## Training as single function"
      ],
      "metadata": {
        "id": "K4aLG7G6S2J_"
      }
    },
    {
      "cell_type": "code",
      "source": [
        "import torch\n",
        "from transformers import BertForSequenceClassification\n",
        "from transformers import  get_linear_schedule_with_warmup\n",
        "import tqdm\n",
        "from tqdm import tqdm  # Import the tqdm function\n",
        "from sklearn.metrics import confusion_matrix\n",
        "import matplotlib.pyplot as plt\n",
        "import numpy as np\n",
        "from torch.utils.data import DataLoader, RandomSampler, SequentialSampler\n",
        "import json\n",
        "\n",
        "def train():\n",
        "\n",
        "  device = torch.device(\"cuda\" if torch.cuda.is_available() else \"cpu\")\n",
        "\n",
        "\n",
        "\n",
        "\n",
        "  # Load the data from the JSON file\n",
        "  with open('data_info.json', 'r') as json_file:\n",
        "      loaded_data = json.load(json_file)\n",
        "\n",
        "  # Extract values into variables\n",
        "  num_unique_values = loaded_data['num_unique_values']\n",
        "  unique_values = loaded_data['unique_values']\n",
        "\n",
        "  # Print the loaded data to verify\n",
        "  print(f\"Number of Unique Values: {num_unique_values}\")\n",
        "  print(f\"Unique Values: {unique_values}\")\n",
        "\n",
        "  model = BertForSequenceClassification.from_pretrained(\n",
        "    'bert-base-uncased',\n",
        "    num_labels = num_unique_values,\n",
        "    output_attentions = False,\n",
        "    output_hidden_states = False)\n",
        "  model.to(device)\n",
        "\n",
        "  print(\"-\"*70)\n",
        "  print(model)\n",
        "  print(\"-\"*70)\n",
        "\n",
        "\n",
        "  optimizer = torch.optim.AdamW(\n",
        "    model.parameters(),\n",
        "    lr = 1e-5, #2e-5 to 5e-5\n",
        "    eps = 1e-8)\n",
        "\n",
        "  epochs=10\n",
        "  batch_size = 4 #32\n",
        "\n",
        "\n",
        "  dataset_train=torch.load('data/dataset_train.pt')\n",
        "  dataset_val=torch.load('data/dataset_val.pt')\n",
        "\n",
        "  dataloader_train = DataLoader(\n",
        "      dataset_train,\n",
        "      sampler = RandomSampler(dataset_train),\n",
        "      batch_size = batch_size\n",
        "  )\n",
        "\n",
        "  dataloader_validation = DataLoader(\n",
        "      dataset_val,\n",
        "      sampler = SequentialSampler(dataset_val),\n",
        "      batch_size = 32\n",
        "  )\n",
        "\n",
        "    # Store the average loss after each epoch so we can plot them.\n",
        "  loss_values = []\n",
        "\n",
        "  for epoch in range(1, epochs+1):\n",
        "      model.train()\n",
        "      total_loss = 0\n",
        "\n",
        "      for step, batch in enumerate(tqdm(dataloader_train, desc=f\"Epoch {epoch}\")):\n",
        "          batch = tuple(t.to(device) for t in batch)\n",
        "          inputs = {'input_ids':      batch[0],\n",
        "                    'attention_mask': batch[1],\n",
        "                    'labels':         batch[2]}\n",
        "\n",
        "          model.zero_grad()\n",
        "\n",
        "          outputs = model(**inputs)\n",
        "          loss = outputs[0]\n",
        "          total_loss += loss.item()\n",
        "\n",
        "          loss.backward()\n",
        "          optimizer.step()\n",
        "\n",
        "      avg_train_loss = total_loss / len(dataloader_train)\n",
        "      loss_values.append(avg_train_loss)\n",
        "\n",
        "      print(f\"Epoch {epoch} | Average Training Loss: {avg_train_loss}\")\n",
        "\n",
        "  #save model\n",
        "  torch.save(model.state_dict(), f'Bert_ft.pt')\n",
        "  print(\"[INFO] Model saved to file  Bert_ft.pt\")\n",
        "  plot(loss_values,epochs)"
      ],
      "metadata": {
        "id": "Dt4KsrKCS-aK"
      },
      "execution_count": 6,
      "outputs": []
    },
    {
      "cell_type": "code",
      "source": [
        "def plot(loss_values,epochs):\n",
        "  # Plotting the training loss\n",
        "  plt.figure(figsize=(10, 6))\n",
        "  plt.plot(loss_values, 'b-o')\n",
        "\n",
        "  plt.title(\"Training Loss-BERT Sentiment Analysis \")\n",
        "  plt.xlabel(\"Epoch\")\n",
        "  plt.ylabel(\"Loss\")\n",
        "  plt.xticks(range(1, epochs+1))\n",
        "\n",
        "\n",
        "    # Define the folder name\n",
        "  folder_name = \"results\"\n",
        "\n",
        "  # Check if the folder exists, if not, create it\n",
        "  if not os.path.exists(folder_name):\n",
        "      os.makedirs(folder_name)\n",
        "      print(\"Folder results created.\")\n",
        "  else:\n",
        "      print(\"Folder results already exists.\")\n",
        "  plt.savefig(os.path.join(\"results\", 'Training_Loss.png'))\n",
        "  print(\"[INFO] Training Loss saved to file Training_Loss.png in results folder\")\n",
        "  plt.show()"
      ],
      "metadata": {
        "id": "nGLpPcrpY1Lt"
      },
      "execution_count": 7,
      "outputs": []
    },
    {
      "cell_type": "code",
      "source": [
        "train()\n"
      ],
      "metadata": {
        "colab": {
          "base_uri": "https://localhost:8080/",
          "height": 1000,
          "referenced_widgets": [
            "7eac24e2f27e4366bf95bf2d623e0b04",
            "d753a6a5d5ae40a684bfd3e98976af99",
            "6a34771fbe634cb099ce5bb6940d7245",
            "c0df68775ec44221a5e80c9cb575aa39",
            "d46349091eba4747b9a68926bc3ba0c1",
            "c0fa04e34c1b4e84b842208a70d1f573",
            "be32336d5bc247488f0f8805a0bbe613",
            "f725eef0daa64e249d3f34e55f3a36e6",
            "f3b253fec68149358a29faa2c41149ed",
            "f9f8834f98c54ed2877a2cdb5a03a888",
            "729d762169644a778f0745a1461006a0"
          ]
        },
        "id": "m5hjA3d_UZYi",
        "outputId": "3a50bb9f-96f5-4643-846d-6babf62f40b7"
      },
      "execution_count": 8,
      "outputs": [
        {
          "output_type": "stream",
          "name": "stdout",
          "text": [
            "Number of Unique Values: 6\n",
            "Unique Values: ['happy', 'not-relevant', 'angry', 'disgust', 'sad', 'surprise']\n"
          ]
        },
        {
          "output_type": "display_data",
          "data": {
            "text/plain": [
              "model.safetensors:   0%|          | 0.00/440M [00:00<?, ?B/s]"
            ],
            "application/vnd.jupyter.widget-view+json": {
              "version_major": 2,
              "version_minor": 0,
              "model_id": "7eac24e2f27e4366bf95bf2d623e0b04"
            }
          },
          "metadata": {}
        },
        {
          "output_type": "stream",
          "name": "stderr",
          "text": [
            "Some weights of BertForSequenceClassification were not initialized from the model checkpoint at bert-base-uncased and are newly initialized: ['classifier.bias', 'classifier.weight']\n",
            "You should probably TRAIN this model on a down-stream task to be able to use it for predictions and inference.\n"
          ]
        },
        {
          "output_type": "stream",
          "name": "stdout",
          "text": [
            "----------------------------------------------------------------------\n",
            "BertForSequenceClassification(\n",
            "  (bert): BertModel(\n",
            "    (embeddings): BertEmbeddings(\n",
            "      (word_embeddings): Embedding(30522, 768, padding_idx=0)\n",
            "      (position_embeddings): Embedding(512, 768)\n",
            "      (token_type_embeddings): Embedding(2, 768)\n",
            "      (LayerNorm): LayerNorm((768,), eps=1e-12, elementwise_affine=True)\n",
            "      (dropout): Dropout(p=0.1, inplace=False)\n",
            "    )\n",
            "    (encoder): BertEncoder(\n",
            "      (layer): ModuleList(\n",
            "        (0-11): 12 x BertLayer(\n",
            "          (attention): BertAttention(\n",
            "            (self): BertSelfAttention(\n",
            "              (query): Linear(in_features=768, out_features=768, bias=True)\n",
            "              (key): Linear(in_features=768, out_features=768, bias=True)\n",
            "              (value): Linear(in_features=768, out_features=768, bias=True)\n",
            "              (dropout): Dropout(p=0.1, inplace=False)\n",
            "            )\n",
            "            (output): BertSelfOutput(\n",
            "              (dense): Linear(in_features=768, out_features=768, bias=True)\n",
            "              (LayerNorm): LayerNorm((768,), eps=1e-12, elementwise_affine=True)\n",
            "              (dropout): Dropout(p=0.1, inplace=False)\n",
            "            )\n",
            "          )\n",
            "          (intermediate): BertIntermediate(\n",
            "            (dense): Linear(in_features=768, out_features=3072, bias=True)\n",
            "            (intermediate_act_fn): GELUActivation()\n",
            "          )\n",
            "          (output): BertOutput(\n",
            "            (dense): Linear(in_features=3072, out_features=768, bias=True)\n",
            "            (LayerNorm): LayerNorm((768,), eps=1e-12, elementwise_affine=True)\n",
            "            (dropout): Dropout(p=0.1, inplace=False)\n",
            "          )\n",
            "        )\n",
            "      )\n",
            "    )\n",
            "    (pooler): BertPooler(\n",
            "      (dense): Linear(in_features=768, out_features=768, bias=True)\n",
            "      (activation): Tanh()\n",
            "    )\n",
            "  )\n",
            "  (dropout): Dropout(p=0.1, inplace=False)\n",
            "  (classifier): Linear(in_features=768, out_features=6, bias=True)\n",
            ")\n",
            "----------------------------------------------------------------------\n"
          ]
        },
        {
          "output_type": "stream",
          "name": "stderr",
          "text": [
            "Epoch 1: 100%|██████████| 315/315 [00:59<00:00,  5.26it/s]\n"
          ]
        },
        {
          "output_type": "stream",
          "name": "stdout",
          "text": [
            "Epoch 1 | Average Training Loss: 0.7335045443640815\n"
          ]
        },
        {
          "output_type": "stream",
          "name": "stderr",
          "text": [
            "Epoch 2: 100%|██████████| 315/315 [01:01<00:00,  5.09it/s]\n"
          ]
        },
        {
          "output_type": "stream",
          "name": "stdout",
          "text": [
            "Epoch 2 | Average Training Loss: 0.42142631872778846\n"
          ]
        },
        {
          "output_type": "stream",
          "name": "stderr",
          "text": [
            "Epoch 3: 100%|██████████| 315/315 [01:01<00:00,  5.12it/s]\n"
          ]
        },
        {
          "output_type": "stream",
          "name": "stdout",
          "text": [
            "Epoch 3 | Average Training Loss: 0.25903581014228244\n"
          ]
        },
        {
          "output_type": "stream",
          "name": "stderr",
          "text": [
            "Epoch 4: 100%|██████████| 315/315 [01:02<00:00,  5.08it/s]\n"
          ]
        },
        {
          "output_type": "stream",
          "name": "stdout",
          "text": [
            "Epoch 4 | Average Training Loss: 0.16544622816884566\n"
          ]
        },
        {
          "output_type": "stream",
          "name": "stderr",
          "text": [
            "Epoch 5: 100%|██████████| 315/315 [01:01<00:00,  5.10it/s]\n"
          ]
        },
        {
          "output_type": "stream",
          "name": "stdout",
          "text": [
            "Epoch 5 | Average Training Loss: 0.10547339551682983\n"
          ]
        },
        {
          "output_type": "stream",
          "name": "stderr",
          "text": [
            "Epoch 6: 100%|██████████| 315/315 [01:01<00:00,  5.10it/s]\n"
          ]
        },
        {
          "output_type": "stream",
          "name": "stdout",
          "text": [
            "Epoch 6 | Average Training Loss: 0.06755344281786137\n"
          ]
        },
        {
          "output_type": "stream",
          "name": "stderr",
          "text": [
            "Epoch 7: 100%|██████████| 315/315 [01:01<00:00,  5.10it/s]\n"
          ]
        },
        {
          "output_type": "stream",
          "name": "stdout",
          "text": [
            "Epoch 7 | Average Training Loss: 0.03736768411694183\n"
          ]
        },
        {
          "output_type": "stream",
          "name": "stderr",
          "text": [
            "Epoch 8: 100%|██████████| 315/315 [01:01<00:00,  5.11it/s]\n"
          ]
        },
        {
          "output_type": "stream",
          "name": "stdout",
          "text": [
            "Epoch 8 | Average Training Loss: 0.0371930786260655\n"
          ]
        },
        {
          "output_type": "stream",
          "name": "stderr",
          "text": [
            "Epoch 9: 100%|██████████| 315/315 [01:01<00:00,  5.11it/s]\n"
          ]
        },
        {
          "output_type": "stream",
          "name": "stdout",
          "text": [
            "Epoch 9 | Average Training Loss: 0.039460644911279874\n"
          ]
        },
        {
          "output_type": "stream",
          "name": "stderr",
          "text": [
            "Epoch 10: 100%|██████████| 315/315 [01:01<00:00,  5.10it/s]\n"
          ]
        },
        {
          "output_type": "stream",
          "name": "stdout",
          "text": [
            "Epoch 10 | Average Training Loss: 0.017886724392144334\n",
            "[INFO] Model saved to file  Bert_ft.pt\n",
            "Folder results created.\n"
          ]
        },
        {
          "output_type": "display_data",
          "data": {
            "text/plain": [
              "<Figure size 1000x600 with 1 Axes>"
            ],
            "image/png": "[encoded data removed]"
          },
          "metadata": {}
        }
      ]
    },
    {
      "cell_type": "markdown",
      "source": [
        "# 3-Evaluate model"
      ],
      "metadata": {
        "id": "n1Oa3cuJYzgY"
      }
    },
    {
      "cell_type": "code",
      "source": [
        "from torch.utils.data import DataLoader\n",
        "import numpy as np\n",
        "from sklearn.metrics import accuracy_score\n",
        "from sklearn.metrics import confusion_matrix\n",
        "import torch\n",
        "import json\n",
        "import seaborn as sns\n",
        "import os\n",
        "\n",
        "def evalModel():\n",
        "  device = torch.device(\"cuda\" if torch.cuda.is_available() else \"cpu\")\n",
        "  num_unique_values=6\n",
        "  path_to_model=\"Bert_ft.pt\"\n",
        "\n",
        "\n",
        "  # Load the data from the JSON file\n",
        "  with open('data_info.json', 'r') as json_file:\n",
        "      loaded_data = json.load(json_file)\n",
        "\n",
        "  # Extract values into variables\n",
        "  num_unique_values = loaded_data['num_unique_values']\n",
        "  unique_values = loaded_data['unique_values']\n",
        "  label_to_category=loaded_data['label_to_category']\n",
        "\n",
        "\n",
        "  # Print the loaded data to verify\n",
        "  print(f\"Number of Unique Values: {num_unique_values}\")\n",
        "  print(f\"Unique Values: {unique_values}\")\n",
        "  print(f\"label_to_category: {label_to_category}\")\n",
        "\n",
        "\n",
        "  # Load fine-tuned-model\n",
        "  model = BertForSequenceClassification.from_pretrained(\"bert-base-uncased\",\n",
        "                                                      num_labels=num_unique_values,\n",
        "                                                      output_attentions=False,\n",
        "                                                      output_hidden_states=False)\n",
        "\n",
        "\n",
        "  state_dict= torch.load('Bert_ft.pt',\n",
        "              map_location = device)\n",
        "  model.load_state_dict(state_dict)\n",
        "\n",
        "  model.eval()  # Put the model in evaluation mode\n",
        "  model.to(device)\n",
        "\n",
        "\n",
        "  dataset_val=torch.load('data/dataset_val.pt')\n",
        "\n",
        "  dataloader_validation = DataLoader(\n",
        "      dataset_val,\n",
        "      sampler = SequentialSampler(dataset_val),\n",
        "      batch_size = 32\n",
        "  )\n",
        "\n",
        "  predictions, true_labels = [], []\n",
        "\n",
        "  with torch.no_grad():\n",
        "      for batch in dataloader_validation:\n",
        "          batch = tuple(b.to(device) for b in batch)\n",
        "          inputs = {\n",
        "              'input_ids'       : batch[0],\n",
        "              'attention_mask'  : batch[1],\n",
        "              'labels'          : batch[2]\n",
        "          }\n",
        "\n",
        "          outputs = model(**inputs)\n",
        "\n",
        "          # Move logits and labels to CPU as they will be converted to numpy\n",
        "          logits = outputs.logits.detach().cpu().numpy()\n",
        "          label_ids = batch[2].to('cpu').numpy()\n",
        "\n",
        "          # Store predictions and true labels\n",
        "          predictions.append(logits)\n",
        "          true_labels.append(label_ids)\n",
        "\n",
        "  # Convert the predictions and labels to flat lists\n",
        "  flat_predictions = np.concatenate(predictions, axis=0)\n",
        "  flat_true_labels = np.concatenate(true_labels, axis=0)\n",
        "\n",
        "  # For classification, we can use the argmax to get the predicted label\n",
        "  flat_predictions = np.argmax(flat_predictions, axis=1)\n",
        "\n",
        "  # Calculate the accuracy\n",
        "  accuracy = accuracy_score(flat_true_labels, flat_predictions)\n",
        "  print(f\"Accuracy: {accuracy}\")\n",
        "  plot_save_confusion_matrix(unique_values,flat_true_labels, flat_predictions)\n"
      ],
      "metadata": {
        "id": "c3WoxbGAjA46"
      },
      "execution_count": 59,
      "outputs": []
    },
    {
      "cell_type": "code",
      "source": [
        "def plot_save_confusion_matrix(unique_values,flat_true_labels, flat_predictions):\n",
        "  class_labels = unique_values\n",
        "\n",
        "  # Compute the confusion matrix\n",
        "  conf_matrix = confusion_matrix(flat_true_labels, flat_predictions)\n",
        "\n",
        "  # Optionally, normalize the confusion matrix\n",
        "  conf_matrix_normalized = conf_matrix.astype('float') / conf_matrix.sum(axis=1)[:, np.newaxis]\n",
        "\n",
        "  # Plotting the confusion matrix\n",
        "  plt.figure(figsize=(10, 8))\n",
        "  sns.heatmap(conf_matrix_normalized, annot=True, fmt=\".2f\", cmap=\"Blues\",\n",
        "              xticklabels=class_labels,  # Set custom x-tick labels\n",
        "              yticklabels=class_labels)  # Set custom y-tick labels\n",
        "  plt.ylabel('Actual')\n",
        "  plt.xlabel('Predicted')\n",
        "  plt.title('Normalized Confusion Matrix')\n",
        "\n",
        "\n",
        "  # Define the folder name\n",
        "  folder_name = \"results\"\n",
        "\n",
        "  # Check if the folder exists, if not, create it\n",
        "  if not os.path.exists(folder_name):\n",
        "      os.makedirs(folder_name)\n",
        "      print(\"Folder results created.\")\n",
        "  else:\n",
        "      print(\"Folder results already exists.\")\n",
        "  plt.savefig(os.path.join(\"results\", 'confusion_matrix.png'))\n",
        "  plt.show()\n",
        "\n",
        "\n"
      ],
      "metadata": {
        "id": "zUMCrXvSmN0l"
      },
      "execution_count": 60,
      "outputs": []
    },
    {
      "cell_type": "code",
      "source": [
        "evalModel()"
      ],
      "metadata": {
        "colab": {
          "base_uri": "https://localhost:8080/",
          "height": 860
        },
        "id": "klsV3Q-OeK_J",
        "outputId": "1af7f894-3050-4aae-8659-f85f5557b9c8"
      },
      "execution_count": 61,
      "outputs": [
        {
          "output_type": "stream",
          "name": "stdout",
          "text": [
            "Number of Unique Values: 6\n",
            "Unique Values: ['happy', 'not-relevant', 'angry', 'disgust', 'sad', 'surprise']\n",
            "label_to_category: {'0': 'happy', '1': 'not-relevant', '2': 'angry', '3': 'disgust', '4': 'sad', '5': 'surprise'}\n"
          ]
        },
        {
          "output_type": "stream",
          "name": "stderr",
          "text": [
            "Some weights of BertForSequenceClassification were not initialized from the model checkpoint at bert-base-uncased and are newly initialized: ['classifier.bias', 'classifier.weight']\n",
            "You should probably TRAIN this model on a down-stream task to be able to use it for predictions and inference.\n"
          ]
        },
        {
          "output_type": "stream",
          "name": "stdout",
          "text": [
            "Accuracy: 0.8654708520179372\n",
            "Folder results created.\n"
          ]
        },
        {
          "output_type": "display_data",
          "data": {
            "text/plain": [
              "<Figure size 1000x800 with 2 Axes>"
            ],
            "image/png": "[encoded data removed]"
          },
          "metadata": {}
        }
      ]
    },
    {
      "cell_type": "markdown",
      "metadata": {
        "id": "W6ybBBejst0K"
      },
      "source": [
        "# 4-Test model on a single Tweet"
      ]
    },
    {
      "cell_type": "code",
      "source": [
        "def index_to_label(prediction_index,label_to_category):\n",
        "    # Define your mapping from index to label\n",
        "    label_dict = label_to_category\n",
        "        # Add more labels as needed\n",
        "\n",
        "    # Return the corresponding label for the prediction index\n",
        "    return label_dict.get(str(prediction_index), \"Unknown\")  # Default to \"Unknown\" if index is not found\n"
      ],
      "metadata": {
        "id": "2wfNau4HsnX7"
      },
      "execution_count": 62,
      "outputs": []
    },
    {
      "cell_type": "code",
      "source": [
        "from transformers import BertTokenizer, BertForSequenceClassification\n",
        "import torch\n",
        "\n",
        "\n",
        "# Function to predict the label of a tweet\n",
        "def predict_label(tweet):\n",
        "\n",
        "  # Load the data from the JSON file\n",
        "  with open('data_info.json', 'r') as json_file:\n",
        "      loaded_data = json.load(json_file)\n",
        "\n",
        "  # Extract values into variables\n",
        "  num_unique_values = loaded_data['num_unique_values']\n",
        "  unique_values = loaded_data['unique_values']\n",
        "  label_to_category=loaded_data['label_to_category']\n",
        "\n",
        "\n",
        "  # Print the loaded data to verify\n",
        "  print(f\"Number of Unique Values: {num_unique_values}\")\n",
        "  print(f\"Unique Values: {unique_values}\")\n",
        "  print(f\"label_to_category: {label_to_category}\")\n",
        "\n",
        "  # Check if CUDA is available and set the device accordingly\n",
        "  device = torch.device(\"cuda\" if torch.cuda.is_available() else \"cpu\")\n",
        "\n",
        "  print(f\"Using device: {device}\")\n",
        "  state_dict= torch.load('Bert_ft.pt',\n",
        "              map_location = device)\n",
        "  model = BertForSequenceClassification.from_pretrained(\"bert-base-uncased\",\n",
        "                                                      num_labels=num_unique_values,\n",
        "                                                      output_attentions=False,\n",
        "                                                      output_hidden_states=False)\n",
        "  model.load_state_dict(state_dict)\n",
        "  # Ensure the model is in evaluation mode\n",
        "  model.eval()\n",
        "\n",
        "  tokenizer = BertTokenizer.from_pretrained('bert-base-uncased', do_lower_case=True)\n",
        "  # Tokenize and encode the tweet for BERT\n",
        "  inputs = tokenizer.encode_plus(\n",
        "        tweet,\n",
        "        None,\n",
        "        add_special_tokens=True,\n",
        "        max_length=256,\n",
        "        pad_to_max_length=True,\n",
        "        return_attention_mask=True,\n",
        "        return_tensors='pt',\n",
        "    )\n",
        "\n",
        "  # Get the input IDs and attention mask tensors\n",
        "  input_ids = inputs['input_ids']\n",
        "  attention_mask = inputs['attention_mask']\n",
        "\n",
        "  # Make prediction\n",
        "  with torch.no_grad():\n",
        "        outputs = model(input_ids, attention_mask=attention_mask)\n",
        "\n",
        "  # Get the prediction (the index of the highest logit)\n",
        "  prediction = torch.argmax(outputs.logits, dim=1).item()\n",
        "\n",
        "\n",
        "  # Convert prediction index to label (assuming you have a way to map indices to labels)\n",
        "  label = index_to_label(prediction,label_to_category)  # Implement this function based on your labels\n",
        "\n",
        "  return label\n",
        "\n",
        "\n"
      ],
      "metadata": {
        "id": "x_GGjp5IrrD8"
      },
      "execution_count": 63,
      "outputs": []
    },
    {
      "cell_type": "code",
      "source": [
        "# Example usage\n",
        "tweet = \"I am so happy\"\n",
        "label = predict_label(tweet)\n",
        "print(f\"Predicted label: {label}\")"
      ],
      "metadata": {
        "colab": {
          "base_uri": "https://localhost:8080/"
        },
        "id": "40GJmYUTwO9u",
        "outputId": "5139d193-dd40-4a82-fcf1-82707458870f"
      },
      "execution_count": 64,
      "outputs": [
        {
          "output_type": "stream",
          "name": "stdout",
          "text": [
            "Number of Unique Values: 6\n",
            "Unique Values: ['happy', 'not-relevant', 'angry', 'disgust', 'sad', 'surprise']\n",
            "label_to_category: {'0': 'happy', '1': 'not-relevant', '2': 'angry', '3': 'disgust', '4': 'sad', '5': 'surprise'}\n",
            "Using device: cuda\n"
          ]
        },
        {
          "output_type": "stream",
          "name": "stderr",
          "text": [
            "Some weights of BertForSequenceClassification were not initialized from the model checkpoint at bert-base-uncased and are newly initialized: ['classifier.bias', 'classifier.weight']\n",
            "You should probably TRAIN this model on a down-stream task to be able to use it for predictions and inference.\n",
            "Truncation was not explicitly activated but `max_length` is provided a specific value, please use `truncation=True` to explicitly truncate examples to max length. Defaulting to 'longest_first' truncation strategy. If you encode pairs of sequences (GLUE-style) with the tokenizer you can select this strategy more precisely by providing a specific strategy to `truncation`.\n",
            "/usr/local/lib/python3.10/dist-packages/transformers/tokenization_utils_base.py:2645: FutureWarning: The `pad_to_max_length` argument is deprecated and will be removed in a future version, use `padding=True` or `padding='longest'` to pad to the longest sequence in the batch, or use `padding='max_length'` to pad to a max length. In this case, you can give a specific length with `max_length` (e.g. `max_length=45`) or leave max_length to None to pad to the maximal input size of the model (e.g. 512 for Bert).\n",
            "  warnings.warn(\n"
          ]
        },
        {
          "output_type": "stream",
          "name": "stdout",
          "text": [
            "Predicted label: happy\n"
          ]
        }
      ]
    },
    {
      "cell_type": "code",
      "source": [
        "# Example usage\n",
        "tweet = \"I hate this movie\"\n",
        "label = predict_label(tweet)\n",
        "print(f\"for Tweet\\\"{tweet}\\\" Predicted label: {label}\")"
      ],
      "metadata": {
        "colab": {
          "base_uri": "https://localhost:8080/"
        },
        "id": "FT668znUwdHL",
        "outputId": "6e70566e-427f-42cc-ddd7-f28617bad5e7"
      },
      "execution_count": 65,
      "outputs": [
        {
          "output_type": "stream",
          "name": "stdout",
          "text": [
            "Number of Unique Values: 6\n",
            "Unique Values: ['happy', 'not-relevant', 'angry', 'disgust', 'sad', 'surprise']\n",
            "label_to_category: {'0': 'happy', '1': 'not-relevant', '2': 'angry', '3': 'disgust', '4': 'sad', '5': 'surprise'}\n",
            "Using device: cuda\n"
          ]
        },
        {
          "output_type": "stream",
          "name": "stderr",
          "text": [
            "Some weights of BertForSequenceClassification were not initialized from the model checkpoint at bert-base-uncased and are newly initialized: ['classifier.bias', 'classifier.weight']\n",
            "You should probably TRAIN this model on a down-stream task to be able to use it for predictions and inference.\n",
            "Truncation was not explicitly activated but `max_length` is provided a specific value, please use `truncation=True` to explicitly truncate examples to max length. Defaulting to 'longest_first' truncation strategy. If you encode pairs of sequences (GLUE-style) with the tokenizer you can select this strategy more precisely by providing a specific strategy to `truncation`.\n"
          ]
        },
        {
          "output_type": "stream",
          "name": "stdout",
          "text": [
            "for Tweet\"I hate this movie\" Predicted label: sad\n"
          ]
        }
      ]
    }
  ],
  "metadata": {
    "accelerator": "GPU",
    "colab": {
      "gpuType": "T4",
      "provenance": [],
      "toc_visible": true
    },
    "kernelspec": {
      "display_name": "Python 3",
      "name": "python3"
    },
    "language_info": {
      "codemirror_mode": {
        "name": "ipython",
        "version": 3
      },
      "file_extension": ".py",
      "mimetype": "text/x-python",
      "name": "python",
      "nbconvert_exporter": "python",
      "pygments_lexer": "ipython3",
      "version": "3.6.9"
    },
    "widgets": {
      "application/vnd.jupyter.widget-state+json": {
        "b669dd86d66a404597f8222410ad1f93": {
          "model_module": "@jupyter-widgets/controls",
          "model_name": "HBoxModel",
          "model_module_version": "1.5.0",
          "state": {
            "_dom_classes": [],
            "_model_module": "@jupyter-widgets/controls",
            "_model_module_version": "1.5.0",
            "_model_name": "HBoxModel",
            "_view_count": null,
            "_view_module": "@jupyter-widgets/controls",
            "_view_module_version": "1.5.0",
            "_view_name": "HBoxView",
            "box_style": "",
            "children": [
              "IPY_MODEL_7acca8d9ab7d42e9b98f35756fc01af7",
              "IPY_MODEL_7a7c80a1151e44e0b13c7b9950fe83ee",
              "IPY_MODEL_950b8dfee1b840a2ae3dc9ffc5ecd40d"
            ],
            "layout": "IPY_MODEL_310e16b640aa43f3aa930fa51724586a"
          }
        },
        "7acca8d9ab7d42e9b98f35756fc01af7": {
          "model_module": "@jupyter-widgets/controls",
          "model_name": "HTMLModel",
          "model_module_version": "1.5.0",
          "state": {
            "_dom_classes": [],
            "_model_module": "@jupyter-widgets/controls",
            "_model_module_version": "1.5.0",
            "_model_name": "HTMLModel",
            "_view_count": null,
            "_view_module": "@jupyter-widgets/controls",
            "_view_module_version": "1.5.0",
            "_view_name": "HTMLView",
            "description": "",
            "description_tooltip": null,
            "layout": "IPY_MODEL_f35a3f45b10842ba9212915448abd2e0",
            "placeholder": "​",
            "style": "IPY_MODEL_a04b56003f1e4dea8b50f19a7fa79eaa",
            "value": "tokenizer_config.json: 100%"
          }
        },
        "7a7c80a1151e44e0b13c7b9950fe83ee": {
          "model_module": "@jupyter-widgets/controls",
          "model_name": "FloatProgressModel",
          "model_module_version": "1.5.0",
          "state": {
            "_dom_classes": [],
            "_model_module": "@jupyter-widgets/controls",
            "_model_module_version": "1.5.0",
            "_model_name": "FloatProgressModel",
            "_view_count": null,
            "_view_module": "@jupyter-widgets/controls",
            "_view_module_version": "1.5.0",
            "_view_name": "ProgressView",
            "bar_style": "success",
            "description": "",
            "description_tooltip": null,
            "layout": "IPY_MODEL_fd6e11a29c714cc0abd97062f6cfe103",
            "max": 48,
            "min": 0,
            "orientation": "horizontal",
            "style": "IPY_MODEL_ec75bd8e8e34429f9cafd53558207bfd",
            "value": 48
          }
        },
        "950b8dfee1b840a2ae3dc9ffc5ecd40d": {
          "model_module": "@jupyter-widgets/controls",
          "model_name": "HTMLModel",
          "model_module_version": "1.5.0",
          "state": {
            "_dom_classes": [],
            "_model_module": "@jupyter-widgets/controls",
            "_model_module_version": "1.5.0",
            "_model_name": "HTMLModel",
            "_view_count": null,
            "_view_module": "@jupyter-widgets/controls",
            "_view_module_version": "1.5.0",
            "_view_name": "HTMLView",
            "description": "",
            "description_tooltip": null,
            "layout": "IPY_MODEL_03d7aaa4b72843d29f9f3cd847d53e82",
            "placeholder": "​",
            "style": "IPY_MODEL_bfdf0b1b07bf4cc39f495095253adf65",
            "value": " 48.0/48.0 [00:00&lt;00:00, 2.97kB/s]"
          }
        },
        "310e16b640aa43f3aa930fa51724586a": {
          "model_module": "@jupyter-widgets/base",
          "model_name": "LayoutModel",
          "model_module_version": "1.2.0",
          "state": {
            "_model_module": "@jupyter-widgets/base",
            "_model_module_version": "1.2.0",
            "_model_name": "LayoutModel",
            "_view_count": null,
            "_view_module": "@jupyter-widgets/base",
            "_view_module_version": "1.2.0",
            "_view_name": "LayoutView",
            "align_content": null,
            "align_items": null,
            "align_self": null,
            "border": null,
            "bottom": null,
            "display": null,
            "flex": null,
            "flex_flow": null,
            "grid_area": null,
            "grid_auto_columns": null,
            "grid_auto_flow": null,
            "grid_auto_rows": null,
            "grid_column": null,
            "grid_gap": null,
            "grid_row": null,
            "grid_template_areas": null,
            "grid_template_columns": null,
            "grid_template_rows": null,
            "height": null,
            "justify_content": null,
            "justify_items": null,
            "left": null,
            "margin": null,
            "max_height": null,
            "max_width": null,
            "min_height": null,
            "min_width": null,
            "object_fit": null,
            "object_position": null,
            "order": null,
            "overflow": null,
            "overflow_x": null,
            "overflow_y": null,
            "padding": null,
            "right": null,
            "top": null,
            "visibility": null,
            "width": null
          }
        },
        "f35a3f45b10842ba9212915448abd2e0": {
          "model_module": "@jupyter-widgets/base",
          "model_name": "LayoutModel",
          "model_module_version": "1.2.0",
          "state": {
            "_model_module": "@jupyter-widgets/base",
            "_model_module_version": "1.2.0",
            "_model_name": "LayoutModel",
            "_view_count": null,
            "_view_module": "@jupyter-widgets/base",
            "_view_module_version": "1.2.0",
            "_view_name": "LayoutView",
            "align_content": null,
            "align_items": null,
            "align_self": null,
            "border": null,
            "bottom": null,
            "display": null,
            "flex": null,
            "flex_flow": null,
            "grid_area": null,
            "grid_auto_columns": null,
            "grid_auto_flow": null,
            "grid_auto_rows": null,
            "grid_column": null,
            "grid_gap": null,
            "grid_row": null,
            "grid_template_areas": null,
            "grid_template_columns": null,
            "grid_template_rows": null,
            "height": null,
            "justify_content": null,
            "justify_items": null,
            "left": null,
            "margin": null,
            "max_height": null,
            "max_width": null,
            "min_height": null,
            "min_width": null,
            "object_fit": null,
            "object_position": null,
            "order": null,
            "overflow": null,
            "overflow_x": null,
            "overflow_y": null,
            "padding": null,
            "right": null,
            "top": null,
            "visibility": null,
            "width": null
          }
        },
        "a04b56003f1e4dea8b50f19a7fa79eaa": {
          "model_module": "@jupyter-widgets/controls",
          "model_name": "DescriptionStyleModel",
          "model_module_version": "1.5.0",
          "state": {
            "_model_module": "@jupyter-widgets/controls",
            "_model_module_version": "1.5.0",
            "_model_name": "DescriptionStyleModel",
            "_view_count": null,
            "_view_module": "@jupyter-widgets/base",
            "_view_module_version": "1.2.0",
            "_view_name": "StyleView",
            "description_width": ""
          }
        },
        "fd6e11a29c714cc0abd97062f6cfe103": {
          "model_module": "@jupyter-widgets/base",
          "model_name": "LayoutModel",
          "model_module_version": "1.2.0",
          "state": {
            "_model_module": "@jupyter-widgets/base",
            "_model_module_version": "1.2.0",
            "_model_name": "LayoutModel",
            "_view_count": null,
            "_view_module": "@jupyter-widgets/base",
            "_view_module_version": "1.2.0",
            "_view_name": "LayoutView",
            "align_content": null,
            "align_items": null,
            "align_self": null,
            "border": null,
            "bottom": null,
            "display": null,
            "flex": null,
            "flex_flow": null,
            "grid_area": null,
            "grid_auto_columns": null,
            "grid_auto_flow": null,
            "grid_auto_rows": null,
            "grid_column": null,
            "grid_gap": null,
            "grid_row": null,
            "grid_template_areas": null,
            "grid_template_columns": null,
            "grid_template_rows": null,
            "height": null,
            "justify_content": null,
            "justify_items": null,
            "left": null,
            "margin": null,
            "max_height": null,
            "max_width": null,
            "min_height": null,
            "min_width": null,
            "object_fit": null,
            "object_position": null,
            "order": null,
            "overflow": null,
            "overflow_x": null,
            "overflow_y": null,
            "padding": null,
            "right": null,
            "top": null,
            "visibility": null,
            "width": null
          }
        },
        "ec75bd8e8e34429f9cafd53558207bfd": {
          "model_module": "@jupyter-widgets/controls",
          "model_name": "ProgressStyleModel",
          "model_module_version": "1.5.0",
          "state": {
            "_model_module": "@jupyter-widgets/controls",
            "_model_module_version": "1.5.0",
            "_model_name": "ProgressStyleModel",
            "_view_count": null,
            "_view_module": "@jupyter-widgets/base",
            "_view_module_version": "1.2.0",
            "_view_name": "StyleView",
            "bar_color": null,
            "description_width": ""
          }
        },
        "03d7aaa4b72843d29f9f3cd847d53e82": {
          "model_module": "@jupyter-widgets/base",
          "model_name": "LayoutModel",
          "model_module_version": "1.2.0",
          "state": {
            "_model_module": "@jupyter-widgets/base",
            "_model_module_version": "1.2.0",
            "_model_name": "LayoutModel",
            "_view_count": null,
            "_view_module": "@jupyter-widgets/base",
            "_view_module_version": "1.2.0",
            "_view_name": "LayoutView",
            "align_content": null,
            "align_items": null,
            "align_self": null,
            "border": null,
            "bottom": null,
            "display": null,
            "flex": null,
            "flex_flow": null,
            "grid_area": null,
            "grid_auto_columns": null,
            "grid_auto_flow": null,
            "grid_auto_rows": null,
            "grid_column": null,
            "grid_gap": null,
            "grid_row": null,
            "grid_template_areas": null,
            "grid_template_columns": null,
            "grid_template_rows": null,
            "height": null,
            "justify_content": null,
            "justify_items": null,
            "left": null,
            "margin": null,
            "max_height": null,
            "max_width": null,
            "min_height": null,
            "min_width": null,
            "object_fit": null,
            "object_position": null,
            "order": null,
            "overflow": null,
            "overflow_x": null,
            "overflow_y": null,
            "padding": null,
            "right": null,
            "top": null,
            "visibility": null,
            "width": null
          }
        },
        "bfdf0b1b07bf4cc39f495095253adf65": {
          "model_module": "@jupyter-widgets/controls",
          "model_name": "DescriptionStyleModel",
          "model_module_version": "1.5.0",
          "state": {
            "_model_module": "@jupyter-widgets/controls",
            "_model_module_version": "1.5.0",
            "_model_name": "DescriptionStyleModel",
            "_view_count": null,
            "_view_module": "@jupyter-widgets/base",
            "_view_module_version": "1.2.0",
            "_view_name": "StyleView",
            "description_width": ""
          }
        },
        "6cc7ea43dce44c4bb32e08b22994b8fb": {
          "model_module": "@jupyter-widgets/controls",
          "model_name": "HBoxModel",
          "model_module_version": "1.5.0",
          "state": {
            "_dom_classes": [],
            "_model_module": "@jupyter-widgets/controls",
            "_model_module_version": "1.5.0",
            "_model_name": "HBoxModel",
            "_view_count": null,
            "_view_module": "@jupyter-widgets/controls",
            "_view_module_version": "1.5.0",
            "_view_name": "HBoxView",
            "box_style": "",
            "children": [
              "IPY_MODEL_0f784e056c484c99b33c8e1ca8836b70",
              "IPY_MODEL_fcf5c7dc82ca48169c23136d7d1e2b25",
              "IPY_MODEL_2025ad5c17b143cab1bd8ced81bb6355"
            ],
            "layout": "IPY_MODEL_82d133e1d2b3409fbff0556fc2299c99"
          }
        },
        "0f784e056c484c99b33c8e1ca8836b70": {
          "model_module": "@jupyter-widgets/controls",
          "model_name": "HTMLModel",
          "model_module_version": "1.5.0",
          "state": {
            "_dom_classes": [],
            "_model_module": "@jupyter-widgets/controls",
            "_model_module_version": "1.5.0",
            "_model_name": "HTMLModel",
            "_view_count": null,
            "_view_module": "@jupyter-widgets/controls",
            "_view_module_version": "1.5.0",
            "_view_name": "HTMLView",
            "description": "",
            "description_tooltip": null,
            "layout": "IPY_MODEL_32a073c1c60f41bb8db0e931ae102a6b",
            "placeholder": "​",
            "style": "IPY_MODEL_20b03b64b6af43a39a75a6262955c876",
            "value": "vocab.txt: 100%"
          }
        },
        "fcf5c7dc82ca48169c23136d7d1e2b25": {
          "model_module": "@jupyter-widgets/controls",
          "model_name": "FloatProgressModel",
          "model_module_version": "1.5.0",
          "state": {
            "_dom_classes": [],
            "_model_module": "@jupyter-widgets/controls",
            "_model_module_version": "1.5.0",
            "_model_name": "FloatProgressModel",
            "_view_count": null,
            "_view_module": "@jupyter-widgets/controls",
            "_view_module_version": "1.5.0",
            "_view_name": "ProgressView",
            "bar_style": "success",
            "description": "",
            "description_tooltip": null,
            "layout": "IPY_MODEL_6e7b917c29d142ec92690e291ca9622e",
            "max": 231508,
            "min": 0,
            "orientation": "horizontal",
            "style": "IPY_MODEL_426b176602b84eaf8b39e8618f04ea75",
            "value": 231508
          }
        },
        "2025ad5c17b143cab1bd8ced81bb6355": {
          "model_module": "@jupyter-widgets/controls",
          "model_name": "HTMLModel",
          "model_module_version": "1.5.0",
          "state": {
            "_dom_classes": [],
            "_model_module": "@jupyter-widgets/controls",
            "_model_module_version": "1.5.0",
            "_model_name": "HTMLModel",
            "_view_count": null,
            "_view_module": "@jupyter-widgets/controls",
            "_view_module_version": "1.5.0",
            "_view_name": "HTMLView",
            "description": "",
            "description_tooltip": null,
            "layout": "IPY_MODEL_f7f0835bf7714dccb9812995fb05351d",
            "placeholder": "​",
            "style": "IPY_MODEL_fe79c75581d640da9386211969076a86",
            "value": " 232k/232k [00:00&lt;00:00, 10.3MB/s]"
          }
        },
        "82d133e1d2b3409fbff0556fc2299c99": {
          "model_module": "@jupyter-widgets/base",
          "model_name": "LayoutModel",
          "model_module_version": "1.2.0",
          "state": {
            "_model_module": "@jupyter-widgets/base",
            "_model_module_version": "1.2.0",
            "_model_name": "LayoutModel",
            "_view_count": null,
            "_view_module": "@jupyter-widgets/base",
            "_view_module_version": "1.2.0",
            "_view_name": "LayoutView",
            "align_content": null,
            "align_items": null,
            "align_self": null,
            "border": null,
            "bottom": null,
            "display": null,
            "flex": null,
            "flex_flow": null,
            "grid_area": null,
            "grid_auto_columns": null,
            "grid_auto_flow": null,
            "grid_auto_rows": null,
            "grid_column": null,
            "grid_gap": null,
            "grid_row": null,
            "grid_template_areas": null,
            "grid_template_columns": null,
            "grid_template_rows": null,
            "height": null,
            "justify_content": null,
            "justify_items": null,
            "left": null,
            "margin": null,
            "max_height": null,
            "max_width": null,
            "min_height": null,
            "min_width": null,
            "object_fit": null,
            "object_position": null,
            "order": null,
            "overflow": null,
            "overflow_x": null,
            "overflow_y": null,
            "padding": null,
            "right": null,
            "top": null,
            "visibility": null,
            "width": null
          }
        },
        "32a073c1c60f41bb8db0e931ae102a6b": {
          "model_module": "@jupyter-widgets/base",
          "model_name": "LayoutModel",
          "model_module_version": "1.2.0",
          "state": {
            "_model_module": "@jupyter-widgets/base",
            "_model_module_version": "1.2.0",
            "_model_name": "LayoutModel",
            "_view_count": null,
            "_view_module": "@jupyter-widgets/base",
            "_view_module_version": "1.2.0",
            "_view_name": "LayoutView",
            "align_content": null,
            "align_items": null,
            "align_self": null,
            "border": null,
            "bottom": null,
            "display": null,
            "flex": null,
            "flex_flow": null,
            "grid_area": null,
            "grid_auto_columns": null,
            "grid_auto_flow": null,
            "grid_auto_rows": null,
            "grid_column": null,
            "grid_gap": null,
            "grid_row": null,
            "grid_template_areas": null,
            "grid_template_columns": null,
            "grid_template_rows": null,
            "height": null,
            "justify_content": null,
            "justify_items": null,
            "left": null,
            "margin": null,
            "max_height": null,
            "max_width": null,
            "min_height": null,
            "min_width": null,
            "object_fit": null,
            "object_position": null,
            "order": null,
            "overflow": null,
            "overflow_x": null,
            "overflow_y": null,
            "padding": null,
            "right": null,
            "top": null,
            "visibility": null,
            "width": null
          }
        },
        "20b03b64b6af43a39a75a6262955c876": {
          "model_module": "@jupyter-widgets/controls",
          "model_name": "DescriptionStyleModel",
          "model_module_version": "1.5.0",
          "state": {
            "_model_module": "@jupyter-widgets/controls",
            "_model_module_version": "1.5.0",
            "_model_name": "DescriptionStyleModel",
            "_view_count": null,
            "_view_module": "@jupyter-widgets/base",
            "_view_module_version": "1.2.0",
            "_view_name": "StyleView",
            "description_width": ""
          }
        },
        "6e7b917c29d142ec92690e291ca9622e": {
          "model_module": "@jupyter-widgets/base",
          "model_name": "LayoutModel",
          "model_module_version": "1.2.0",
          "state": {
            "_model_module": "@jupyter-widgets/base",
            "_model_module_version": "1.2.0",
            "_model_name": "LayoutModel",
            "_view_count": null,
            "_view_module": "@jupyter-widgets/base",
            "_view_module_version": "1.2.0",
            "_view_name": "LayoutView",
            "align_content": null,
            "align_items": null,
            "align_self": null,
            "border": null,
            "bottom": null,
            "display": null,
            "flex": null,
            "flex_flow": null,
            "grid_area": null,
            "grid_auto_columns": null,
            "grid_auto_flow": null,
            "grid_auto_rows": null,
            "grid_column": null,
            "grid_gap": null,
            "grid_row": null,
            "grid_template_areas": null,
            "grid_template_columns": null,
            "grid_template_rows": null,
            "height": null,
            "justify_content": null,
            "justify_items": null,
            "left": null,
            "margin": null,
            "max_height": null,
            "max_width": null,
            "min_height": null,
            "min_width": null,
            "object_fit": null,
            "object_position": null,
            "order": null,
            "overflow": null,
            "overflow_x": null,
            "overflow_y": null,
            "padding": null,
            "right": null,
            "top": null,
            "visibility": null,
            "width": null
          }
        },
        "426b176602b84eaf8b39e8618f04ea75": {
          "model_module": "@jupyter-widgets/controls",
          "model_name": "ProgressStyleModel",
          "model_module_version": "1.5.0",
          "state": {
            "_model_module": "@jupyter-widgets/controls",
            "_model_module_version": "1.5.0",
            "_model_name": "ProgressStyleModel",
            "_view_count": null,
            "_view_module": "@jupyter-widgets/base",
            "_view_module_version": "1.2.0",
            "_view_name": "StyleView",
            "bar_color": null,
            "description_width": ""
          }
        },
        "f7f0835bf7714dccb9812995fb05351d": {
          "model_module": "@jupyter-widgets/base",
          "model_name": "LayoutModel",
          "model_module_version": "1.2.0",
          "state": {
            "_model_module": "@jupyter-widgets/base",
            "_model_module_version": "1.2.0",
            "_model_name": "LayoutModel",
            "_view_count": null,
            "_view_module": "@jupyter-widgets/base",
            "_view_module_version": "1.2.0",
            "_view_name": "LayoutView",
            "align_content": null,
            "align_items": null,
            "align_self": null,
            "border": null,
            "bottom": null,
            "display": null,
            "flex": null,
            "flex_flow": null,
            "grid_area": null,
            "grid_auto_columns": null,
            "grid_auto_flow": null,
            "grid_auto_rows": null,
            "grid_column": null,
            "grid_gap": null,
            "grid_row": null,
            "grid_template_areas": null,
            "grid_template_columns": null,
            "grid_template_rows": null,
            "height": null,
            "justify_content": null,
            "justify_items": null,
            "left": null,
            "margin": null,
            "max_height": null,
            "max_width": null,
            "min_height": null,
            "min_width": null,
            "object_fit": null,
            "object_position": null,
            "order": null,
            "overflow": null,
            "overflow_x": null,
            "overflow_y": null,
            "padding": null,
            "right": null,
            "top": null,
            "visibility": null,
            "width": null
          }
        },
        "fe79c75581d640da9386211969076a86": {
          "model_module": "@jupyter-widgets/controls",
          "model_name": "DescriptionStyleModel",
          "model_module_version": "1.5.0",
          "state": {
            "_model_module": "@jupyter-widgets/controls",
            "_model_module_version": "1.5.0",
            "_model_name": "DescriptionStyleModel",
            "_view_count": null,
            "_view_module": "@jupyter-widgets/base",
            "_view_module_version": "1.2.0",
            "_view_name": "StyleView",
            "description_width": ""
          }
        },
        "e6cc09c6eceb4c50a90da6509efe26c4": {
          "model_module": "@jupyter-widgets/controls",
          "model_name": "HBoxModel",
          "model_module_version": "1.5.0",
          "state": {
            "_dom_classes": [],
            "_model_module": "@jupyter-widgets/controls",
            "_model_module_version": "1.5.0",
            "_model_name": "HBoxModel",
            "_view_count": null,
            "_view_module": "@jupyter-widgets/controls",
            "_view_module_version": "1.5.0",
            "_view_name": "HBoxView",
            "box_style": "",
            "children": [
              "IPY_MODEL_0c7a3ed37d1f4221a2a191efc6d96a03",
              "IPY_MODEL_fd846b2cd9434dafb5c287d2fb59d5ab",
              "IPY_MODEL_bc389fb7487c4fd2b31cc0117ad7ab12"
            ],
            "layout": "IPY_MODEL_12c65d62c7224b18b08f3359733dda17"
          }
        },
        "0c7a3ed37d1f4221a2a191efc6d96a03": {
          "model_module": "@jupyter-widgets/controls",
          "model_name": "HTMLModel",
          "model_module_version": "1.5.0",
          "state": {
            "_dom_classes": [],
            "_model_module": "@jupyter-widgets/controls",
            "_model_module_version": "1.5.0",
            "_model_name": "HTMLModel",
            "_view_count": null,
            "_view_module": "@jupyter-widgets/controls",
            "_view_module_version": "1.5.0",
            "_view_name": "HTMLView",
            "description": "",
            "description_tooltip": null,
            "layout": "IPY_MODEL_0690b74634ae4351b5faec8c96a6b065",
            "placeholder": "​",
            "style": "IPY_MODEL_6c3073584bf941978f252ed12b418626",
            "value": "tokenizer.json: 100%"
          }
        },
        "fd846b2cd9434dafb5c287d2fb59d5ab": {
          "model_module": "@jupyter-widgets/controls",
          "model_name": "FloatProgressModel",
          "model_module_version": "1.5.0",
          "state": {
            "_dom_classes": [],
            "_model_module": "@jupyter-widgets/controls",
            "_model_module_version": "1.5.0",
            "_model_name": "FloatProgressModel",
            "_view_count": null,
            "_view_module": "@jupyter-widgets/controls",
            "_view_module_version": "1.5.0",
            "_view_name": "ProgressView",
            "bar_style": "success",
            "description": "",
            "description_tooltip": null,
            "layout": "IPY_MODEL_d6e2c7707d724638b8806cc98b098bcd",
            "max": 466062,
            "min": 0,
            "orientation": "horizontal",
            "style": "IPY_MODEL_069f9d035e17417eafaf20f63b9f69ae",
            "value": 466062
          }
        },
        "bc389fb7487c4fd2b31cc0117ad7ab12": {
          "model_module": "@jupyter-widgets/controls",
          "model_name": "HTMLModel",
          "model_module_version": "1.5.0",
          "state": {
            "_dom_classes": [],
            "_model_module": "@jupyter-widgets/controls",
            "_model_module_version": "1.5.0",
            "_model_name": "HTMLModel",
            "_view_count": null,
            "_view_module": "@jupyter-widgets/controls",
            "_view_module_version": "1.5.0",
            "_view_name": "HTMLView",
            "description": "",
            "description_tooltip": null,
            "layout": "IPY_MODEL_d588feefb09446ac90d02ef95d2d0e9d",
            "placeholder": "​",
            "style": "IPY_MODEL_696b917557904d54ae45a9fa22d4fd97",
            "value": " 466k/466k [00:00&lt;00:00, 30.6MB/s]"
          }
        },
        "12c65d62c7224b18b08f3359733dda17": {
          "model_module": "@jupyter-widgets/base",
          "model_name": "LayoutModel",
          "model_module_version": "1.2.0",
          "state": {
            "_model_module": "@jupyter-widgets/base",
            "_model_module_version": "1.2.0",
            "_model_name": "LayoutModel",
            "_view_count": null,
            "_view_module": "@jupyter-widgets/base",
            "_view_module_version": "1.2.0",
            "_view_name": "LayoutView",
            "align_content": null,
            "align_items": null,
            "align_self": null,
            "border": null,
            "bottom": null,
            "display": null,
            "flex": null,
            "flex_flow": null,
            "grid_area": null,
            "grid_auto_columns": null,
            "grid_auto_flow": null,
            "grid_auto_rows": null,
            "grid_column": null,
            "grid_gap": null,
            "grid_row": null,
            "grid_template_areas": null,
            "grid_template_columns": null,
            "grid_template_rows": null,
            "height": null,
            "justify_content": null,
            "justify_items": null,
            "left": null,
            "margin": null,
            "max_height": null,
            "max_width": null,
            "min_height": null,
            "min_width": null,
            "object_fit": null,
            "object_position": null,
            "order": null,
            "overflow": null,
            "overflow_x": null,
            "overflow_y": null,
            "padding": null,
            "right": null,
            "top": null,
            "visibility": null,
            "width": null
          }
        },
        "0690b74634ae4351b5faec8c96a6b065": {
          "model_module": "@jupyter-widgets/base",
          "model_name": "LayoutModel",
          "model_module_version": "1.2.0",
          "state": {
            "_model_module": "@jupyter-widgets/base",
            "_model_module_version": "1.2.0",
            "_model_name": "LayoutModel",
            "_view_count": null,
            "_view_module": "@jupyter-widgets/base",
            "_view_module_version": "1.2.0",
            "_view_name": "LayoutView",
            "align_content": null,
            "align_items": null,
            "align_self": null,
            "border": null,
            "bottom": null,
            "display": null,
            "flex": null,
            "flex_flow": null,
            "grid_area": null,
            "grid_auto_columns": null,
            "grid_auto_flow": null,
            "grid_auto_rows": null,
            "grid_column": null,
            "grid_gap": null,
            "grid_row": null,
            "grid_template_areas": null,
            "grid_template_columns": null,
            "grid_template_rows": null,
            "height": null,
            "justify_content": null,
            "justify_items": null,
            "left": null,
            "margin": null,
            "max_height": null,
            "max_width": null,
            "min_height": null,
            "min_width": null,
            "object_fit": null,
            "object_position": null,
            "order": null,
            "overflow": null,
            "overflow_x": null,
            "overflow_y": null,
            "padding": null,
            "right": null,
            "top": null,
            "visibility": null,
            "width": null
          }
        },
        "6c3073584bf941978f252ed12b418626": {
          "model_module": "@jupyter-widgets/controls",
          "model_name": "DescriptionStyleModel",
          "model_module_version": "1.5.0",
          "state": {
            "_model_module": "@jupyter-widgets/controls",
            "_model_module_version": "1.5.0",
            "_model_name": "DescriptionStyleModel",
            "_view_count": null,
            "_view_module": "@jupyter-widgets/base",
            "_view_module_version": "1.2.0",
            "_view_name": "StyleView",
            "description_width": ""
          }
        },
        "d6e2c7707d724638b8806cc98b098bcd": {
          "model_module": "@jupyter-widgets/base",
          "model_name": "LayoutModel",
          "model_module_version": "1.2.0",
          "state": {
            "_model_module": "@jupyter-widgets/base",
            "_model_module_version": "1.2.0",
            "_model_name": "LayoutModel",
            "_view_count": null,
            "_view_module": "@jupyter-widgets/base",
            "_view_module_version": "1.2.0",
            "_view_name": "LayoutView",
            "align_content": null,
            "align_items": null,
            "align_self": null,
            "border": null,
            "bottom": null,
            "display": null,
            "flex": null,
            "flex_flow": null,
            "grid_area": null,
            "grid_auto_columns": null,
            "grid_auto_flow": null,
            "grid_auto_rows": null,
            "grid_column": null,
            "grid_gap": null,
            "grid_row": null,
            "grid_template_areas": null,
            "grid_template_columns": null,
            "grid_template_rows": null,
            "height": null,
            "justify_content": null,
            "justify_items": null,
            "left": null,
            "margin": null,
            "max_height": null,
            "max_width": null,
            "min_height": null,
            "min_width": null,
            "object_fit": null,
            "object_position": null,
            "order": null,
            "overflow": null,
            "overflow_x": null,
            "overflow_y": null,
            "padding": null,
            "right": null,
            "top": null,
            "visibility": null,
            "width": null
          }
        },
        "069f9d035e17417eafaf20f63b9f69ae": {
          "model_module": "@jupyter-widgets/controls",
          "model_name": "ProgressStyleModel",
          "model_module_version": "1.5.0",
          "state": {
            "_model_module": "@jupyter-widgets/controls",
            "_model_module_version": "1.5.0",
            "_model_name": "ProgressStyleModel",
            "_view_count": null,
            "_view_module": "@jupyter-widgets/base",
            "_view_module_version": "1.2.0",
            "_view_name": "StyleView",
            "bar_color": null,
            "description_width": ""
          }
        },
        "d588feefb09446ac90d02ef95d2d0e9d": {
          "model_module": "@jupyter-widgets/base",
          "model_name": "LayoutModel",
          "model_module_version": "1.2.0",
          "state": {
            "_model_module": "@jupyter-widgets/base",
            "_model_module_version": "1.2.0",
            "_model_name": "LayoutModel",
            "_view_count": null,
            "_view_module": "@jupyter-widgets/base",
            "_view_module_version": "1.2.0",
            "_view_name": "LayoutView",
            "align_content": null,
            "align_items": null,
            "align_self": null,
            "border": null,
            "bottom": null,
            "display": null,
            "flex": null,
            "flex_flow": null,
            "grid_area": null,
            "grid_auto_columns": null,
            "grid_auto_flow": null,
            "grid_auto_rows": null,
            "grid_column": null,
            "grid_gap": null,
            "grid_row": null,
            "grid_template_areas": null,
            "grid_template_columns": null,
            "grid_template_rows": null,
            "height": null,
            "justify_content": null,
            "justify_items": null,
            "left": null,
            "margin": null,
            "max_height": null,
            "max_width": null,
            "min_height": null,
            "min_width": null,
            "object_fit": null,
            "object_position": null,
            "order": null,
            "overflow": null,
            "overflow_x": null,
            "overflow_y": null,
            "padding": null,
            "right": null,
            "top": null,
            "visibility": null,
            "width": null
          }
        },
        "696b917557904d54ae45a9fa22d4fd97": {
          "model_module": "@jupyter-widgets/controls",
          "model_name": "DescriptionStyleModel",
          "model_module_version": "1.5.0",
          "state": {
            "_model_module": "@jupyter-widgets/controls",
            "_model_module_version": "1.5.0",
            "_model_name": "DescriptionStyleModel",
            "_view_count": null,
            "_view_module": "@jupyter-widgets/base",
            "_view_module_version": "1.2.0",
            "_view_name": "StyleView",
            "description_width": ""
          }
        },
        "b38e3083d2fb4d01acc198c23103a802": {
          "model_module": "@jupyter-widgets/controls",
          "model_name": "HBoxModel",
          "model_module_version": "1.5.0",
          "state": {
            "_dom_classes": [],
            "_model_module": "@jupyter-widgets/controls",
            "_model_module_version": "1.5.0",
            "_model_name": "HBoxModel",
            "_view_count": null,
            "_view_module": "@jupyter-widgets/controls",
            "_view_module_version": "1.5.0",
            "_view_name": "HBoxView",
            "box_style": "",
            "children": [
              "IPY_MODEL_bd6550a975fd4b1cb956e214881940f8",
              "IPY_MODEL_ed792594df974defad9babfe956f971d",
              "IPY_MODEL_25bddce747e242c2a3502b3615edb031"
            ],
            "layout": "IPY_MODEL_acca905282524804865573cd9558ded1"
          }
        },
        "bd6550a975fd4b1cb956e214881940f8": {
          "model_module": "@jupyter-widgets/controls",
          "model_name": "HTMLModel",
          "model_module_version": "1.5.0",
          "state": {
            "_dom_classes": [],
            "_model_module": "@jupyter-widgets/controls",
            "_model_module_version": "1.5.0",
            "_model_name": "HTMLModel",
            "_view_count": null,
            "_view_module": "@jupyter-widgets/controls",
            "_view_module_version": "1.5.0",
            "_view_name": "HTMLView",
            "description": "",
            "description_tooltip": null,
            "layout": "IPY_MODEL_9e74970f2f26468ebe0e1b1726240c55",
            "placeholder": "​",
            "style": "IPY_MODEL_26a7f8c312b34821a8c55e3ae4750e92",
            "value": "config.json: 100%"
          }
        },
        "ed792594df974defad9babfe956f971d": {
          "model_module": "@jupyter-widgets/controls",
          "model_name": "FloatProgressModel",
          "model_module_version": "1.5.0",
          "state": {
            "_dom_classes": [],
            "_model_module": "@jupyter-widgets/controls",
            "_model_module_version": "1.5.0",
            "_model_name": "FloatProgressModel",
            "_view_count": null,
            "_view_module": "@jupyter-widgets/controls",
            "_view_module_version": "1.5.0",
            "_view_name": "ProgressView",
            "bar_style": "success",
            "description": "",
            "description_tooltip": null,
            "layout": "IPY_MODEL_be4c9f31cd924d1cb494313fc07d0728",
            "max": 570,
            "min": 0,
            "orientation": "horizontal",
            "style": "IPY_MODEL_f2c91d3d32bc4c638c03edcd950f3149",
            "value": 570
          }
        },
        "25bddce747e242c2a3502b3615edb031": {
          "model_module": "@jupyter-widgets/controls",
          "model_name": "HTMLModel",
          "model_module_version": "1.5.0",
          "state": {
            "_dom_classes": [],
            "_model_module": "@jupyter-widgets/controls",
            "_model_module_version": "1.5.0",
            "_model_name": "HTMLModel",
            "_view_count": null,
            "_view_module": "@jupyter-widgets/controls",
            "_view_module_version": "1.5.0",
            "_view_name": "HTMLView",
            "description": "",
            "description_tooltip": null,
            "layout": "IPY_MODEL_94313ec65a1a474b9e007a3f6e1d1525",
            "placeholder": "​",
            "style": "IPY_MODEL_b114bc01afb44130bae568cda1b1e06f",
            "value": " 570/570 [00:00&lt;00:00, 31.5kB/s]"
          }
        },
        "acca905282524804865573cd9558ded1": {
          "model_module": "@jupyter-widgets/base",
          "model_name": "LayoutModel",
          "model_module_version": "1.2.0",
          "state": {
            "_model_module": "@jupyter-widgets/base",
            "_model_module_version": "1.2.0",
            "_model_name": "LayoutModel",
            "_view_count": null,
            "_view_module": "@jupyter-widgets/base",
            "_view_module_version": "1.2.0",
            "_view_name": "LayoutView",
            "align_content": null,
            "align_items": null,
            "align_self": null,
            "border": null,
            "bottom": null,
            "display": null,
            "flex": null,
            "flex_flow": null,
            "grid_area": null,
            "grid_auto_columns": null,
            "grid_auto_flow": null,
            "grid_auto_rows": null,
            "grid_column": null,
            "grid_gap": null,
            "grid_row": null,
            "grid_template_areas": null,
            "grid_template_columns": null,
            "grid_template_rows": null,
            "height": null,
            "justify_content": null,
            "justify_items": null,
            "left": null,
            "margin": null,
            "max_height": null,
            "max_width": null,
            "min_height": null,
            "min_width": null,
            "object_fit": null,
            "object_position": null,
            "order": null,
            "overflow": null,
            "overflow_x": null,
            "overflow_y": null,
            "padding": null,
            "right": null,
            "top": null,
            "visibility": null,
            "width": null
          }
        },
        "9e74970f2f26468ebe0e1b1726240c55": {
          "model_module": "@jupyter-widgets/base",
          "model_name": "LayoutModel",
          "model_module_version": "1.2.0",
          "state": {
            "_model_module": "@jupyter-widgets/base",
            "_model_module_version": "1.2.0",
            "_model_name": "LayoutModel",
            "_view_count": null,
            "_view_module": "@jupyter-widgets/base",
            "_view_module_version": "1.2.0",
            "_view_name": "LayoutView",
            "align_content": null,
            "align_items": null,
            "align_self": null,
            "border": null,
            "bottom": null,
            "display": null,
            "flex": null,
            "flex_flow": null,
            "grid_area": null,
            "grid_auto_columns": null,
            "grid_auto_flow": null,
            "grid_auto_rows": null,
            "grid_column": null,
            "grid_gap": null,
            "grid_row": null,
            "grid_template_areas": null,
            "grid_template_columns": null,
            "grid_template_rows": null,
            "height": null,
            "justify_content": null,
            "justify_items": null,
            "left": null,
            "margin": null,
            "max_height": null,
            "max_width": null,
            "min_height": null,
            "min_width": null,
            "object_fit": null,
            "object_position": null,
            "order": null,
            "overflow": null,
            "overflow_x": null,
            "overflow_y": null,
            "padding": null,
            "right": null,
            "top": null,
            "visibility": null,
            "width": null
          }
        },
        "26a7f8c312b34821a8c55e3ae4750e92": {
          "model_module": "@jupyter-widgets/controls",
          "model_name": "DescriptionStyleModel",
          "model_module_version": "1.5.0",
          "state": {
            "_model_module": "@jupyter-widgets/controls",
            "_model_module_version": "1.5.0",
            "_model_name": "DescriptionStyleModel",
            "_view_count": null,
            "_view_module": "@jupyter-widgets/base",
            "_view_module_version": "1.2.0",
            "_view_name": "StyleView",
            "description_width": ""
          }
        },
        "be4c9f31cd924d1cb494313fc07d0728": {
          "model_module": "@jupyter-widgets/base",
          "model_name": "LayoutModel",
          "model_module_version": "1.2.0",
          "state": {
            "_model_module": "@jupyter-widgets/base",
            "_model_module_version": "1.2.0",
            "_model_name": "LayoutModel",
            "_view_count": null,
            "_view_module": "@jupyter-widgets/base",
            "_view_module_version": "1.2.0",
            "_view_name": "LayoutView",
            "align_content": null,
            "align_items": null,
            "align_self": null,
            "border": null,
            "bottom": null,
            "display": null,
            "flex": null,
            "flex_flow": null,
            "grid_area": null,
            "grid_auto_columns": null,
            "grid_auto_flow": null,
            "grid_auto_rows": null,
            "grid_column": null,
            "grid_gap": null,
            "grid_row": null,
            "grid_template_areas": null,
            "grid_template_columns": null,
            "grid_template_rows": null,
            "height": null,
            "justify_content": null,
            "justify_items": null,
            "left": null,
            "margin": null,
            "max_height": null,
            "max_width": null,
            "min_height": null,
            "min_width": null,
            "object_fit": null,
            "object_position": null,
            "order": null,
            "overflow": null,
            "overflow_x": null,
            "overflow_y": null,
            "padding": null,
            "right": null,
            "top": null,
            "visibility": null,
            "width": null
          }
        },
        "f2c91d3d32bc4c638c03edcd950f3149": {
          "model_module": "@jupyter-widgets/controls",
          "model_name": "ProgressStyleModel",
          "model_module_version": "1.5.0",
          "state": {
            "_model_module": "@jupyter-widgets/controls",
            "_model_module_version": "1.5.0",
            "_model_name": "ProgressStyleModel",
            "_view_count": null,
            "_view_module": "@jupyter-widgets/base",
            "_view_module_version": "1.2.0",
            "_view_name": "StyleView",
            "bar_color": null,
            "description_width": ""
          }
        },
        "94313ec65a1a474b9e007a3f6e1d1525": {
          "model_module": "@jupyter-widgets/base",
          "model_name": "LayoutModel",
          "model_module_version": "1.2.0",
          "state": {
            "_model_module": "@jupyter-widgets/base",
            "_model_module_version": "1.2.0",
            "_model_name": "LayoutModel",
            "_view_count": null,
            "_view_module": "@jupyter-widgets/base",
            "_view_module_version": "1.2.0",
            "_view_name": "LayoutView",
            "align_content": null,
            "align_items": null,
            "align_self": null,
            "border": null,
            "bottom": null,
            "display": null,
            "flex": null,
            "flex_flow": null,
            "grid_area": null,
            "grid_auto_columns": null,
            "grid_auto_flow": null,
            "grid_auto_rows": null,
            "grid_column": null,
            "grid_gap": null,
            "grid_row": null,
            "grid_template_areas": null,
            "grid_template_columns": null,
            "grid_template_rows": null,
            "height": null,
            "justify_content": null,
            "justify_items": null,
            "left": null,
            "margin": null,
            "max_height": null,
            "max_width": null,
            "min_height": null,
            "min_width": null,
            "object_fit": null,
            "object_position": null,
            "order": null,
            "overflow": null,
            "overflow_x": null,
            "overflow_y": null,
            "padding": null,
            "right": null,
            "top": null,
            "visibility": null,
            "width": null
          }
        },
        "b114bc01afb44130bae568cda1b1e06f": {
          "model_module": "@jupyter-widgets/controls",
          "model_name": "DescriptionStyleModel",
          "model_module_version": "1.5.0",
          "state": {
            "_model_module": "@jupyter-widgets/controls",
            "_model_module_version": "1.5.0",
            "_model_name": "DescriptionStyleModel",
            "_view_count": null,
            "_view_module": "@jupyter-widgets/base",
            "_view_module_version": "1.2.0",
            "_view_name": "StyleView",
            "description_width": ""
          }
        },
        "21bd55952b9a47b0a96efff7a9da4706": {
          "model_module": "@jupyter-widgets/controls",
          "model_name": "HBoxModel",
          "model_module_version": "1.5.0",
          "state": {
            "_dom_classes": [],
            "_model_module": "@jupyter-widgets/controls",
            "_model_module_version": "1.5.0",
            "_model_name": "HBoxModel",
            "_view_count": null,
            "_view_module": "@jupyter-widgets/controls",
            "_view_module_version": "1.5.0",
            "_view_name": "HBoxView",
            "box_style": "",
            "children": [
              "IPY_MODEL_b7a9a8b9e8c74f7997cbe6ff0f8b5129",
              "IPY_MODEL_228a938d46b04c599dd11ea6b5861bbd",
              "IPY_MODEL_c47a75217ce04bf992577887f20d53d8"
            ],
            "layout": "IPY_MODEL_5b76a7caaecd4739aad39693c0b5789c"
          }
        },
        "b7a9a8b9e8c74f7997cbe6ff0f8b5129": {
          "model_module": "@jupyter-widgets/controls",
          "model_name": "HTMLModel",
          "model_module_version": "1.5.0",
          "state": {
            "_dom_classes": [],
            "_model_module": "@jupyter-widgets/controls",
            "_model_module_version": "1.5.0",
            "_model_name": "HTMLModel",
            "_view_count": null,
            "_view_module": "@jupyter-widgets/controls",
            "_view_module_version": "1.5.0",
            "_view_name": "HTMLView",
            "description": "",
            "description_tooltip": null,
            "layout": "IPY_MODEL_f5f75b815f104525a7ee1e680974e8f2",
            "placeholder": "​",
            "style": "IPY_MODEL_51df4e89b6da4e2ea15e1523819612bd",
            "value": "model.safetensors: 100%"
          }
        },
        "228a938d46b04c599dd11ea6b5861bbd": {
          "model_module": "@jupyter-widgets/controls",
          "model_name": "FloatProgressModel",
          "model_module_version": "1.5.0",
          "state": {
            "_dom_classes": [],
            "_model_module": "@jupyter-widgets/controls",
            "_model_module_version": "1.5.0",
            "_model_name": "FloatProgressModel",
            "_view_count": null,
            "_view_module": "@jupyter-widgets/controls",
            "_view_module_version": "1.5.0",
            "_view_name": "ProgressView",
            "bar_style": "success",
            "description": "",
            "description_tooltip": null,
            "layout": "IPY_MODEL_341f228344a8407baf93e2248bf78e11",
            "max": 440449768,
            "min": 0,
            "orientation": "horizontal",
            "style": "IPY_MODEL_2ca185eebfc74ad5ae6c1f9b4da4b898",
            "value": 440449768
          }
        },
        "c47a75217ce04bf992577887f20d53d8": {
          "model_module": "@jupyter-widgets/controls",
          "model_name": "HTMLModel",
          "model_module_version": "1.5.0",
          "state": {
            "_dom_classes": [],
            "_model_module": "@jupyter-widgets/controls",
            "_model_module_version": "1.5.0",
            "_model_name": "HTMLModel",
            "_view_count": null,
            "_view_module": "@jupyter-widgets/controls",
            "_view_module_version": "1.5.0",
            "_view_name": "HTMLView",
            "description": "",
            "description_tooltip": null,
            "layout": "IPY_MODEL_c2364a48b3e84592ab4e80b9ec0f1756",
            "placeholder": "​",
            "style": "IPY_MODEL_4ca45e276d204055b9fb1d6a2dd97c00",
            "value": " 440M/440M [00:03&lt;00:00, 247MB/s]"
          }
        },
        "5b76a7caaecd4739aad39693c0b5789c": {
          "model_module": "@jupyter-widgets/base",
          "model_name": "LayoutModel",
          "model_module_version": "1.2.0",
          "state": {
            "_model_module": "@jupyter-widgets/base",
            "_model_module_version": "1.2.0",
            "_model_name": "LayoutModel",
            "_view_count": null,
            "_view_module": "@jupyter-widgets/base",
            "_view_module_version": "1.2.0",
            "_view_name": "LayoutView",
            "align_content": null,
            "align_items": null,
            "align_self": null,
            "border": null,
            "bottom": null,
            "display": null,
            "flex": null,
            "flex_flow": null,
            "grid_area": null,
            "grid_auto_columns": null,
            "grid_auto_flow": null,
            "grid_auto_rows": null,
            "grid_column": null,
            "grid_gap": null,
            "grid_row": null,
            "grid_template_areas": null,
            "grid_template_columns": null,
            "grid_template_rows": null,
            "height": null,
            "justify_content": null,
            "justify_items": null,
            "left": null,
            "margin": null,
            "max_height": null,
            "max_width": null,
            "min_height": null,
            "min_width": null,
            "object_fit": null,
            "object_position": null,
            "order": null,
            "overflow": null,
            "overflow_x": null,
            "overflow_y": null,
            "padding": null,
            "right": null,
            "top": null,
            "visibility": null,
            "width": null
          }
        },
        "f5f75b815f104525a7ee1e680974e8f2": {
          "model_module": "@jupyter-widgets/base",
          "model_name": "LayoutModel",
          "model_module_version": "1.2.0",
          "state": {
            "_model_module": "@jupyter-widgets/base",
            "_model_module_version": "1.2.0",
            "_model_name": "LayoutModel",
            "_view_count": null,
            "_view_module": "@jupyter-widgets/base",
            "_view_module_version": "1.2.0",
            "_view_name": "LayoutView",
            "align_content": null,
            "align_items": null,
            "align_self": null,
            "border": null,
            "bottom": null,
            "display": null,
            "flex": null,
            "flex_flow": null,
            "grid_area": null,
            "grid_auto_columns": null,
            "grid_auto_flow": null,
            "grid_auto_rows": null,
            "grid_column": null,
            "grid_gap": null,
            "grid_row": null,
            "grid_template_areas": null,
            "grid_template_columns": null,
            "grid_template_rows": null,
            "height": null,
            "justify_content": null,
            "justify_items": null,
            "left": null,
            "margin": null,
            "max_height": null,
            "max_width": null,
            "min_height": null,
            "min_width": null,
            "object_fit": null,
            "object_position": null,
            "order": null,
            "overflow": null,
            "overflow_x": null,
            "overflow_y": null,
            "padding": null,
            "right": null,
            "top": null,
            "visibility": null,
            "width": null
          }
        },
        "51df4e89b6da4e2ea15e1523819612bd": {
          "model_module": "@jupyter-widgets/controls",
          "model_name": "DescriptionStyleModel",
          "model_module_version": "1.5.0",
          "state": {
            "_model_module": "@jupyter-widgets/controls",
            "_model_module_version": "1.5.0",
            "_model_name": "DescriptionStyleModel",
            "_view_count": null,
            "_view_module": "@jupyter-widgets/base",
            "_view_module_version": "1.2.0",
            "_view_name": "StyleView",
            "description_width": ""
          }
        },
        "341f228344a8407baf93e2248bf78e11": {
          "model_module": "@jupyter-widgets/base",
          "model_name": "LayoutModel",
          "model_module_version": "1.2.0",
          "state": {
            "_model_module": "@jupyter-widgets/base",
            "_model_module_version": "1.2.0",
            "_model_name": "LayoutModel",
            "_view_count": null,
            "_view_module": "@jupyter-widgets/base",
            "_view_module_version": "1.2.0",
            "_view_name": "LayoutView",
            "align_content": null,
            "align_items": null,
            "align_self": null,
            "border": null,
            "bottom": null,
            "display": null,
            "flex": null,
            "flex_flow": null,
            "grid_area": null,
            "grid_auto_columns": null,
            "grid_auto_flow": null,
            "grid_auto_rows": null,
            "grid_column": null,
            "grid_gap": null,
            "grid_row": null,
            "grid_template_areas": null,
            "grid_template_columns": null,
            "grid_template_rows": null,
            "height": null,
            "justify_content": null,
            "justify_items": null,
            "left": null,
            "margin": null,
            "max_height": null,
            "max_width": null,
            "min_height": null,
            "min_width": null,
            "object_fit": null,
            "object_position": null,
            "order": null,
            "overflow": null,
            "overflow_x": null,
            "overflow_y": null,
            "padding": null,
            "right": null,
            "top": null,
            "visibility": null,
            "width": null
          }
        },
        "2ca185eebfc74ad5ae6c1f9b4da4b898": {
          "model_module": "@jupyter-widgets/controls",
          "model_name": "ProgressStyleModel",
          "model_module_version": "1.5.0",
          "state": {
            "_model_module": "@jupyter-widgets/controls",
            "_model_module_version": "1.5.0",
            "_model_name": "ProgressStyleModel",
            "_view_count": null,
            "_view_module": "@jupyter-widgets/base",
            "_view_module_version": "1.2.0",
            "_view_name": "StyleView",
            "bar_color": null,
            "description_width": ""
          }
        },
        "c2364a48b3e84592ab4e80b9ec0f1756": {
          "model_module": "@jupyter-widgets/base",
          "model_name": "LayoutModel",
          "model_module_version": "1.2.0",
          "state": {
            "_model_module": "@jupyter-widgets/base",
            "_model_module_version": "1.2.0",
            "_model_name": "LayoutModel",
            "_view_count": null,
            "_view_module": "@jupyter-widgets/base",
            "_view_module_version": "1.2.0",
            "_view_name": "LayoutView",
            "align_content": null,
            "align_items": null,
            "align_self": null,
            "border": null,
            "bottom": null,
            "display": null,
            "flex": null,
            "flex_flow": null,
            "grid_area": null,
            "grid_auto_columns": null,
            "grid_auto_flow": null,
            "grid_auto_rows": null,
            "grid_column": null,
            "grid_gap": null,
            "grid_row": null,
            "grid_template_areas": null,
            "grid_template_columns": null,
            "grid_template_rows": null,
            "height": null,
            "justify_content": null,
            "justify_items": null,
            "left": null,
            "margin": null,
            "max_height": null,
            "max_width": null,
            "min_height": null,
            "min_width": null,
            "object_fit": null,
            "object_position": null,
            "order": null,
            "overflow": null,
            "overflow_x": null,
            "overflow_y": null,
            "padding": null,
            "right": null,
            "top": null,
            "visibility": null,
            "width": null
          }
        },
        "4ca45e276d204055b9fb1d6a2dd97c00": {
          "model_module": "@jupyter-widgets/controls",
          "model_name": "DescriptionStyleModel",
          "model_module_version": "1.5.0",
          "state": {
            "_model_module": "@jupyter-widgets/controls",
            "_model_module_version": "1.5.0",
            "_model_name": "DescriptionStyleModel",
            "_view_count": null,
            "_view_module": "@jupyter-widgets/base",
            "_view_module_version": "1.2.0",
            "_view_name": "StyleView",
            "description_width": ""
          }
        },
        "7eac24e2f27e4366bf95bf2d623e0b04": {
          "model_module": "@jupyter-widgets/controls",
          "model_name": "HBoxModel",
          "model_module_version": "1.5.0",
          "state": {
            "_dom_classes": [],
            "_model_module": "@jupyter-widgets/controls",
            "_model_module_version": "1.5.0",
            "_model_name": "HBoxModel",
            "_view_count": null,
            "_view_module": "@jupyter-widgets/controls",
            "_view_module_version": "1.5.0",
            "_view_name": "HBoxView",
            "box_style": "",
            "children": [
              "IPY_MODEL_d753a6a5d5ae40a684bfd3e98976af99",
              "IPY_MODEL_6a34771fbe634cb099ce5bb6940d7245",
              "IPY_MODEL_c0df68775ec44221a5e80c9cb575aa39"
            ],
            "layout": "IPY_MODEL_d46349091eba4747b9a68926bc3ba0c1"
          }
        },
        "d753a6a5d5ae40a684bfd3e98976af99": {
          "model_module": "@jupyter-widgets/controls",
          "model_name": "HTMLModel",
          "model_module_version": "1.5.0",
          "state": {
            "_dom_classes": [],
            "_model_module": "@jupyter-widgets/controls",
            "_model_module_version": "1.5.0",
            "_model_name": "HTMLModel",
            "_view_count": null,
            "_view_module": "@jupyter-widgets/controls",
            "_view_module_version": "1.5.0",
            "_view_name": "HTMLView",
            "description": "",
            "description_tooltip": null,
            "layout": "IPY_MODEL_c0fa04e34c1b4e84b842208a70d1f573",
            "placeholder": "​",
            "style": "IPY_MODEL_be32336d5bc247488f0f8805a0bbe613",
            "value": "model.safetensors: 100%"
          }
        },
        "6a34771fbe634cb099ce5bb6940d7245": {
          "model_module": "@jupyter-widgets/controls",
          "model_name": "FloatProgressModel",
          "model_module_version": "1.5.0",
          "state": {
            "_dom_classes": [],
            "_model_module": "@jupyter-widgets/controls",
            "_model_module_version": "1.5.0",
            "_model_name": "FloatProgressModel",
            "_view_count": null,
            "_view_module": "@jupyter-widgets/controls",
            "_view_module_version": "1.5.0",
            "_view_name": "ProgressView",
            "bar_style": "success",
            "description": "",
            "description_tooltip": null,
            "layout": "IPY_MODEL_f725eef0daa64e249d3f34e55f3a36e6",
            "max": 440449768,
            "min": 0,
            "orientation": "horizontal",
            "style": "IPY_MODEL_f3b253fec68149358a29faa2c41149ed",
            "value": 440449768
          }
        },
        "c0df68775ec44221a5e80c9cb575aa39": {
          "model_module": "@jupyter-widgets/controls",
          "model_name": "HTMLModel",
          "model_module_version": "1.5.0",
          "state": {
            "_dom_classes": [],
            "_model_module": "@jupyter-widgets/controls",
            "_model_module_version": "1.5.0",
            "_model_name": "HTMLModel",
            "_view_count": null,
            "_view_module": "@jupyter-widgets/controls",
            "_view_module_version": "1.5.0",
            "_view_name": "HTMLView",
            "description": "",
            "description_tooltip": null,
            "layout": "IPY_MODEL_f9f8834f98c54ed2877a2cdb5a03a888",
            "placeholder": "​",
            "style": "IPY_MODEL_729d762169644a778f0745a1461006a0",
            "value": " 440M/440M [00:01&lt;00:00, 321MB/s]"
          }
        },
        "d46349091eba4747b9a68926bc3ba0c1": {
          "model_module": "@jupyter-widgets/base",
          "model_name": "LayoutModel",
          "model_module_version": "1.2.0",
          "state": {
            "_model_module": "@jupyter-widgets/base",
            "_model_module_version": "1.2.0",
            "_model_name": "LayoutModel",
            "_view_count": null,
            "_view_module": "@jupyter-widgets/base",
            "_view_module_version": "1.2.0",
            "_view_name": "LayoutView",
            "align_content": null,
            "align_items": null,
            "align_self": null,
            "border": null,
            "bottom": null,
            "display": null,
            "flex": null,
            "flex_flow": null,
            "grid_area": null,
            "grid_auto_columns": null,
            "grid_auto_flow": null,
            "grid_auto_rows": null,
            "grid_column": null,
            "grid_gap": null,
            "grid_row": null,
            "grid_template_areas": null,
            "grid_template_columns": null,
            "grid_template_rows": null,
            "height": null,
            "justify_content": null,
            "justify_items": null,
            "left": null,
            "margin": null,
            "max_height": null,
            "max_width": null,
            "min_height": null,
            "min_width": null,
            "object_fit": null,
            "object_position": null,
            "order": null,
            "overflow": null,
            "overflow_x": null,
            "overflow_y": null,
            "padding": null,
            "right": null,
            "top": null,
            "visibility": null,
            "width": null
          }
        },
        "c0fa04e34c1b4e84b842208a70d1f573": {
          "model_module": "@jupyter-widgets/base",
          "model_name": "LayoutModel",
          "model_module_version": "1.2.0",
          "state": {
            "_model_module": "@jupyter-widgets/base",
            "_model_module_version": "1.2.0",
            "_model_name": "LayoutModel",
            "_view_count": null,
            "_view_module": "@jupyter-widgets/base",
            "_view_module_version": "1.2.0",
            "_view_name": "LayoutView",
            "align_content": null,
            "align_items": null,
            "align_self": null,
            "border": null,
            "bottom": null,
            "display": null,
            "flex": null,
            "flex_flow": null,
            "grid_area": null,
            "grid_auto_columns": null,
            "grid_auto_flow": null,
            "grid_auto_rows": null,
            "grid_column": null,
            "grid_gap": null,
            "grid_row": null,
            "grid_template_areas": null,
            "grid_template_columns": null,
            "grid_template_rows": null,
            "height": null,
            "justify_content": null,
            "justify_items": null,
            "left": null,
            "margin": null,
            "max_height": null,
            "max_width": null,
            "min_height": null,
            "min_width": null,
            "object_fit": null,
            "object_position": null,
            "order": null,
            "overflow": null,
            "overflow_x": null,
            "overflow_y": null,
            "padding": null,
            "right": null,
            "top": null,
            "visibility": null,
            "width": null
          }
        },
        "be32336d5bc247488f0f8805a0bbe613": {
          "model_module": "@jupyter-widgets/controls",
          "model_name": "DescriptionStyleModel",
          "model_module_version": "1.5.0",
          "state": {
            "_model_module": "@jupyter-widgets/controls",
            "_model_module_version": "1.5.0",
            "_model_name": "DescriptionStyleModel",
            "_view_count": null,
            "_view_module": "@jupyter-widgets/base",
            "_view_module_version": "1.2.0",
            "_view_name": "StyleView",
            "description_width": ""
          }
        },
        "f725eef0daa64e249d3f34e55f3a36e6": {
          "model_module": "@jupyter-widgets/base",
          "model_name": "LayoutModel",
          "model_module_version": "1.2.0",
          "state": {
            "_model_module": "@jupyter-widgets/base",
            "_model_module_version": "1.2.0",
            "_model_name": "LayoutModel",
            "_view_count": null,
            "_view_module": "@jupyter-widgets/base",
            "_view_module_version": "1.2.0",
            "_view_name": "LayoutView",
            "align_content": null,
            "align_items": null,
            "align_self": null,
            "border": null,
            "bottom": null,
            "display": null,
            "flex": null,
            "flex_flow": null,
            "grid_area": null,
            "grid_auto_columns": null,
            "grid_auto_flow": null,
            "grid_auto_rows": null,
            "grid_column": null,
            "grid_gap": null,
            "grid_row": null,
            "grid_template_areas": null,
            "grid_template_columns": null,
            "grid_template_rows": null,
            "height": null,
            "justify_content": null,
            "justify_items": null,
            "left": null,
            "margin": null,
            "max_height": null,
            "max_width": null,
            "min_height": null,
            "min_width": null,
            "object_fit": null,
            "object_position": null,
            "order": null,
            "overflow": null,
            "overflow_x": null,
            "overflow_y": null,
            "padding": null,
            "right": null,
            "top": null,
            "visibility": null,
            "width": null
          }
        },
        "f3b253fec68149358a29faa2c41149ed": {
          "model_module": "@jupyter-widgets/controls",
          "model_name": "ProgressStyleModel",
          "model_module_version": "1.5.0",
          "state": {
            "_model_module": "@jupyter-widgets/controls",
            "_model_module_version": "1.5.0",
            "_model_name": "ProgressStyleModel",
            "_view_count": null,
            "_view_module": "@jupyter-widgets/base",
            "_view_module_version": "1.2.0",
            "_view_name": "StyleView",
            "bar_color": null,
            "description_width": ""
          }
        },
        "f9f8834f98c54ed2877a2cdb5a03a888": {
          "model_module": "@jupyter-widgets/base",
          "model_name": "LayoutModel",
          "model_module_version": "1.2.0",
          "state": {
            "_model_module": "@jupyter-widgets/base",
            "_model_module_version": "1.2.0",
            "_model_name": "LayoutModel",
            "_view_count": null,
            "_view_module": "@jupyter-widgets/base",
            "_view_module_version": "1.2.0",
            "_view_name": "LayoutView",
            "align_content": null,
            "align_items": null,
            "align_self": null,
            "border": null,
            "bottom": null,
            "display": null,
            "flex": null,
            "flex_flow": null,
            "grid_area": null,
            "grid_auto_columns": null,
            "grid_auto_flow": null,
            "grid_auto_rows": null,
            "grid_column": null,
            "grid_gap": null,
            "grid_row": null,
            "grid_template_areas": null,
            "grid_template_columns": null,
            "grid_template_rows": null,
            "height": null,
            "justify_content": null,
            "justify_items": null,
            "left": null,
            "margin": null,
            "max_height": null,
            "max_width": null,
            "min_height": null,
            "min_width": null,
            "object_fit": null,
            "object_position": null,
            "order": null,
            "overflow": null,
            "overflow_x": null,
            "overflow_y": null,
            "padding": null,
            "right": null,
            "top": null,
            "visibility": null,
            "width": null
          }
        },
        "729d762169644a778f0745a1461006a0": {
          "model_module": "@jupyter-widgets/controls",
          "model_name": "DescriptionStyleModel",
          "model_module_version": "1.5.0",
          "state": {
            "_model_module": "@jupyter-widgets/controls",
            "_model_module_version": "1.5.0",
            "_model_name": "DescriptionStyleModel",
            "_view_count": null,
            "_view_module": "@jupyter-widgets/base",
            "_view_module_version": "1.2.0",
            "_view_name": "StyleView",
            "description_width": ""
          }
        }
      }
    }
  },
  "nbformat": 4,
  "nbformat_minor": 0
}